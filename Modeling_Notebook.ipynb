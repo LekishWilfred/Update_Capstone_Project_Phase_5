{
 "cells": [
  {
   "cell_type": "markdown",
   "metadata": {
    "id": "Na0BAW0QuJKy"
   },
   "source": [
    "## Import Libraries."
   ]
  },
  {
   "cell_type": "code",
   "execution_count": 37,
   "metadata": {
    "ExecuteTime": {
     "end_time": "2024-08-06T08:37:29.228416Z",
     "start_time": "2024-08-06T08:37:27.040634Z"
    },
    "colab": {
     "base_uri": "https://localhost:8080/"
    },
    "id": "glPkLGEFuJK1",
    "outputId": "e4224d1d-c5a9-42f5-950e-bfa607cf0f4c"
   },
   "outputs": [
    {
     "name": "stderr",
     "output_type": "stream",
     "text": [
      "[nltk_data] Downloading package wordnet to\n",
      "[nltk_data]     C:\\Users\\USER\\AppData\\Roaming\\nltk_data...\n",
      "[nltk_data]   Package wordnet is already up-to-date!\n",
      "[nltk_data] Downloading package stopwords to\n",
      "[nltk_data]     C:\\Users\\USER\\AppData\\Roaming\\nltk_data...\n",
      "[nltk_data]   Package stopwords is already up-to-date!\n",
      "[nltk_data] Downloading package punkt to\n",
      "[nltk_data]     C:\\Users\\USER\\AppData\\Roaming\\nltk_data...\n",
      "[nltk_data]   Package punkt is already up-to-date!\n",
      "[nltk_data] Downloading package omw-1.4 to\n",
      "[nltk_data]     C:\\Users\\USER\\AppData\\Roaming\\nltk_data...\n",
      "[nltk_data]   Package omw-1.4 is already up-to-date!\n"
     ]
    },
    {
     "name": "stdout",
     "output_type": "stream",
     "text": [
      "✔ Download and installation successful\n",
      "You can now load the package via spacy.load('en_core_web_sm')\n"
     ]
    }
   ],
   "source": [
    "# Data Manipulation and Visualization\n",
    "import pandas as pd\n",
    "import numpy as np\n",
    "import matplotlib.pyplot as plt\n",
    "import seaborn as sns\n",
    "from matplotlib.ticker import ScalarFormatter\n",
    "import re\n",
    "import string\n",
    "import warnings\n",
    "import joblib\n",
    "warnings.filterwarnings('ignore')\n",
    "\n",
    "# Machine Learning Libraries\n",
    "import sklearn\n",
    "from sklearn import preprocessing\n",
    "from sklearn.preprocessing import StandardScaler, MinMaxScaler, OneHotEncoder, LabelEncoder, label_binarize\n",
    "from sklearn.model_selection import train_test_split, GridSearchCV, RandomizedSearchCV, cross_val_score\n",
    "from sklearn.linear_model import LogisticRegression\n",
    "from sklearn.ensemble import RandomForestClassifier, ExtraTreesClassifier, GradientBoostingClassifier\n",
    "from sklearn.naive_bayes import BernoulliNB\n",
    "from sklearn.neighbors import KNeighborsClassifier\n",
    "from sklearn.tree import DecisionTreeClassifier\n",
    "from sklearn.pipeline import Pipeline\n",
    "from sklearn.multiclass import OneVsRestClassifier\n",
    "from sklearn import metrics\n",
    "from sklearn.metrics import accuracy_score, classification_report, roc_curve, roc_auc_score, average_precision_score\n",
    "from sklearn.metrics import precision_recall_curve, auc, confusion_matrix, ConfusionMatrixDisplay\n",
    "#from sklearn.metrics import plot_roc_curve\n",
    "from sklearn.decomposition import PCA\n",
    "from sklearn.discriminant_analysis import LinearDiscriminantAnalysis as LDA\n",
    "from imblearn.over_sampling import SMOTE\n",
    "from imblearn.pipeline import Pipeline as ImbPipeline\n",
    "from sklearn.feature_selection import SelectFromModel, RFECV\n",
    "from statsmodels.stats.outliers_influence import variance_inflation_factor\n",
    "from sklearn.discriminant_analysis import LinearDiscriminantAnalysis\n",
    "\n",
    "# NLP Libraries\n",
    "from sklearn.feature_extraction.text import CountVectorizer, TfidfVectorizer\n",
    "from sklearn.decomposition import LatentDirichletAllocation\n",
    "import nltk\n",
    "from nltk.corpus import stopwords\n",
    "from nltk.tokenize import word_tokenize\n",
    "from textblob import TextBlob\n",
    "import spacy\n",
    "import gensim\n",
    "from gensim import corpora\n",
    "from gensim.models import CoherenceModel\n",
    "from nltk.stem import WordNetLemmatizer\n",
    "\n",
    "# Download the stopwords corpus if you haven't already\n",
    "nltk.download('wordnet')\n",
    "nltk.download('stopwords')\n",
    "nltk.download('punkt')\n",
    "nltk.download('omw-1.4')\n",
    "\n",
    "import spacy\n",
    "spacy.cli.download(\"en_core_web_sm\")\n",
    "\n",
    "\n",
    "# Get the list of stopwords for English\n",
    "stop_words = set(stopwords.words('english'))\n",
    "\n",
    "# XGBoost\n",
    "from xgboost import XGBClassifier\n",
    "\n",
    "#SVC\n",
    "from sklearn.svm import SVC\n",
    "\n",
    "# Datetime\n",
    "import datetime\n"
   ]
  },
  {
   "cell_type": "markdown",
   "metadata": {
    "id": "WBXYZyCauJK6"
   },
   "source": [
    "### Load the dataset."
   ]
  },
  {
   "cell_type": "code",
   "execution_count": 2,
   "metadata": {
    "ExecuteTime": {
     "end_time": "2024-08-06T08:03:41.929260Z",
     "start_time": "2024-08-06T08:03:41.729128Z"
    },
    "colab": {
     "base_uri": "https://localhost:8080/",
     "height": 689
    },
    "id": "C7VraXD9uJK7",
    "outputId": "f226f552-77f1-4f4e-aa7a-50a75eeb01af"
   },
   "outputs": [
    {
     "data": {
      "text/html": [
       "<div>\n",
       "<style scoped>\n",
       "    .dataframe tbody tr th:only-of-type {\n",
       "        vertical-align: middle;\n",
       "    }\n",
       "\n",
       "    .dataframe tbody tr th {\n",
       "        vertical-align: top;\n",
       "    }\n",
       "\n",
       "    .dataframe thead th {\n",
       "        text-align: right;\n",
       "    }\n",
       "</style>\n",
       "<table border=\"1\" class=\"dataframe\">\n",
       "  <thead>\n",
       "    <tr style=\"text-align: right;\">\n",
       "      <th></th>\n",
       "      <th>region</th>\n",
       "      <th>country</th>\n",
       "      <th>year</th>\n",
       "      <th>start_date</th>\n",
       "      <th>end_date</th>\n",
       "      <th>protest_duration</th>\n",
       "      <th>participants_numeric</th>\n",
       "      <th>protesterviolence</th>\n",
       "      <th>protesteridentity</th>\n",
       "      <th>demand_labor_wage_dispute</th>\n",
       "      <th>...</th>\n",
       "      <th>demand_tax_policy</th>\n",
       "      <th>response_accomodation</th>\n",
       "      <th>response_arrests</th>\n",
       "      <th>response_beatings</th>\n",
       "      <th>response_crowd_dispersal</th>\n",
       "      <th>response_ignore</th>\n",
       "      <th>response_killings</th>\n",
       "      <th>response_shootings</th>\n",
       "      <th>sources</th>\n",
       "      <th>notes</th>\n",
       "    </tr>\n",
       "  </thead>\n",
       "  <tbody>\n",
       "    <tr>\n",
       "      <th>0</th>\n",
       "      <td>North America</td>\n",
       "      <td>Canada</td>\n",
       "      <td>1990</td>\n",
       "      <td>1990-01-15</td>\n",
       "      <td>1990-01-15</td>\n",
       "      <td>0</td>\n",
       "      <td>5000</td>\n",
       "      <td>0</td>\n",
       "      <td>unspecified</td>\n",
       "      <td>1</td>\n",
       "      <td>...</td>\n",
       "      <td>0</td>\n",
       "      <td>0</td>\n",
       "      <td>0</td>\n",
       "      <td>0</td>\n",
       "      <td>0</td>\n",
       "      <td>1</td>\n",
       "      <td>0</td>\n",
       "      <td>0</td>\n",
       "      <td>1. great canadian train journeys into history;...</td>\n",
       "      <td>canada s railway passenger system was finally ...</td>\n",
       "    </tr>\n",
       "    <tr>\n",
       "      <th>1</th>\n",
       "      <td>North America</td>\n",
       "      <td>Canada</td>\n",
       "      <td>1990</td>\n",
       "      <td>1990-06-25</td>\n",
       "      <td>1990-06-25</td>\n",
       "      <td>0</td>\n",
       "      <td>1000</td>\n",
       "      <td>0</td>\n",
       "      <td>unspecified</td>\n",
       "      <td>0</td>\n",
       "      <td>...</td>\n",
       "      <td>0</td>\n",
       "      <td>0</td>\n",
       "      <td>0</td>\n",
       "      <td>0</td>\n",
       "      <td>0</td>\n",
       "      <td>1</td>\n",
       "      <td>0</td>\n",
       "      <td>0</td>\n",
       "      <td>1. autonomy s cry revived in quebec the new yo...</td>\n",
       "      <td>protestors were only identified as young peopl...</td>\n",
       "    </tr>\n",
       "    <tr>\n",
       "      <th>2</th>\n",
       "      <td>North America</td>\n",
       "      <td>Canada</td>\n",
       "      <td>1990</td>\n",
       "      <td>1990-07-01</td>\n",
       "      <td>1990-07-01</td>\n",
       "      <td>0</td>\n",
       "      <td>500</td>\n",
       "      <td>0</td>\n",
       "      <td>separatist parti quebecois</td>\n",
       "      <td>0</td>\n",
       "      <td>...</td>\n",
       "      <td>0</td>\n",
       "      <td>0</td>\n",
       "      <td>0</td>\n",
       "      <td>0</td>\n",
       "      <td>0</td>\n",
       "      <td>1</td>\n",
       "      <td>0</td>\n",
       "      <td>0</td>\n",
       "      <td>1. quebec protest after queen calls for unity ...</td>\n",
       "      <td>the queen, after calling on canadians to remai...</td>\n",
       "    </tr>\n",
       "    <tr>\n",
       "      <th>3</th>\n",
       "      <td>North America</td>\n",
       "      <td>Canada</td>\n",
       "      <td>1990</td>\n",
       "      <td>1990-07-12</td>\n",
       "      <td>1990-09-06</td>\n",
       "      <td>56</td>\n",
       "      <td>500</td>\n",
       "      <td>1</td>\n",
       "      <td>mohawk indians</td>\n",
       "      <td>0</td>\n",
       "      <td>...</td>\n",
       "      <td>0</td>\n",
       "      <td>1</td>\n",
       "      <td>0</td>\n",
       "      <td>0</td>\n",
       "      <td>0</td>\n",
       "      <td>0</td>\n",
       "      <td>0</td>\n",
       "      <td>0</td>\n",
       "      <td>1. indians gather as siege intensifies; armed ...</td>\n",
       "      <td>canada s federal government has agreed to acqu...</td>\n",
       "    </tr>\n",
       "    <tr>\n",
       "      <th>4</th>\n",
       "      <td>North America</td>\n",
       "      <td>Canada</td>\n",
       "      <td>1990</td>\n",
       "      <td>1990-08-14</td>\n",
       "      <td>1990-08-15</td>\n",
       "      <td>1</td>\n",
       "      <td>950</td>\n",
       "      <td>1</td>\n",
       "      <td>local residents</td>\n",
       "      <td>0</td>\n",
       "      <td>...</td>\n",
       "      <td>0</td>\n",
       "      <td>1</td>\n",
       "      <td>1</td>\n",
       "      <td>0</td>\n",
       "      <td>1</td>\n",
       "      <td>0</td>\n",
       "      <td>0</td>\n",
       "      <td>0</td>\n",
       "      <td>1. dozens hurt in mohawk blockade protest the ...</td>\n",
       "      <td>protests were directed against the state due t...</td>\n",
       "    </tr>\n",
       "  </tbody>\n",
       "</table>\n",
       "<p>5 rows × 27 columns</p>\n",
       "</div>"
      ],
      "text/plain": [
       "          region country  year  start_date    end_date  protest_duration  \\\n",
       "0  North America  Canada  1990  1990-01-15  1990-01-15                 0   \n",
       "1  North America  Canada  1990  1990-06-25  1990-06-25                 0   \n",
       "2  North America  Canada  1990  1990-07-01  1990-07-01                 0   \n",
       "3  North America  Canada  1990  1990-07-12  1990-09-06                56   \n",
       "4  North America  Canada  1990  1990-08-14  1990-08-15                 1   \n",
       "\n",
       "   participants_numeric  protesterviolence           protesteridentity  \\\n",
       "0                  5000                  0                 unspecified   \n",
       "1                  1000                  0                 unspecified   \n",
       "2                   500                  0  separatist parti quebecois   \n",
       "3                   500                  1              mohawk indians   \n",
       "4                   950                  1             local residents   \n",
       "\n",
       "   demand_labor_wage_dispute  ...  demand_tax_policy  response_accomodation  \\\n",
       "0                          1  ...                  0                      0   \n",
       "1                          0  ...                  0                      0   \n",
       "2                          0  ...                  0                      0   \n",
       "3                          0  ...                  0                      1   \n",
       "4                          0  ...                  0                      1   \n",
       "\n",
       "   response_arrests  response_beatings  response_crowd_dispersal  \\\n",
       "0                 0                  0                         0   \n",
       "1                 0                  0                         0   \n",
       "2                 0                  0                         0   \n",
       "3                 0                  0                         0   \n",
       "4                 1                  0                         1   \n",
       "\n",
       "   response_ignore  response_killings  response_shootings  \\\n",
       "0                1                  0                   0   \n",
       "1                1                  0                   0   \n",
       "2                1                  0                   0   \n",
       "3                0                  0                   0   \n",
       "4                0                  0                   0   \n",
       "\n",
       "                                             sources  \\\n",
       "0  1. great canadian train journeys into history;...   \n",
       "1  1. autonomy s cry revived in quebec the new yo...   \n",
       "2  1. quebec protest after queen calls for unity ...   \n",
       "3  1. indians gather as siege intensifies; armed ...   \n",
       "4  1. dozens hurt in mohawk blockade protest the ...   \n",
       "\n",
       "                                               notes  \n",
       "0  canada s railway passenger system was finally ...  \n",
       "1  protestors were only identified as young peopl...  \n",
       "2  the queen, after calling on canadians to remai...  \n",
       "3  canada s federal government has agreed to acqu...  \n",
       "4  protests were directed against the state due t...  \n",
       "\n",
       "[5 rows x 27 columns]"
      ]
     },
     "execution_count": 2,
     "metadata": {},
     "output_type": "execute_result"
    }
   ],
   "source": [
    "# Load the dataset\n",
    "file_path = 'mass_mobilization_cleaned.csv'\n",
    "data = pd.read_csv(file_path)\n",
    "\n",
    "# Underscore column names\n",
    "data.columns = [col.replace(' ', '_') if len(col.split()) >= 1 else col for col in data.columns]\n",
    "\n",
    "# Display the first few rows\n",
    "data.head()\n"
   ]
  },
  {
   "cell_type": "markdown",
   "metadata": {
    "id": "07G2yo-ZuJK8"
   },
   "source": [
    "## Data Preprocessing."
   ]
  },
  {
   "cell_type": "markdown",
   "metadata": {
    "id": "GlUtW-mquJK8"
   },
   "source": [
    "### Removing Outliers."
   ]
  },
  {
   "cell_type": "code",
   "execution_count": 3,
   "metadata": {
    "ExecuteTime": {
     "end_time": "2024-08-06T08:03:41.991075Z",
     "start_time": "2024-08-06T08:03:41.931258Z"
    },
    "colab": {
     "base_uri": "https://localhost:8080/",
     "height": 320
    },
    "id": "bqVKAZgfuJK9",
    "outputId": "2549e0ae-1e3b-4025-bedb-6e8da6bb36d3",
    "scrolled": true
   },
   "outputs": [
    {
     "data": {
      "text/html": [
       "<div>\n",
       "<style scoped>\n",
       "    .dataframe tbody tr th:only-of-type {\n",
       "        vertical-align: middle;\n",
       "    }\n",
       "\n",
       "    .dataframe tbody tr th {\n",
       "        vertical-align: top;\n",
       "    }\n",
       "\n",
       "    .dataframe thead th {\n",
       "        text-align: right;\n",
       "    }\n",
       "</style>\n",
       "<table border=\"1\" class=\"dataframe\">\n",
       "  <thead>\n",
       "    <tr style=\"text-align: right;\">\n",
       "      <th></th>\n",
       "      <th>year</th>\n",
       "      <th>protest_duration</th>\n",
       "      <th>participants_numeric</th>\n",
       "      <th>protesterviolence</th>\n",
       "      <th>demand_labor_wage_dispute</th>\n",
       "      <th>demand_land_farm_issue</th>\n",
       "      <th>demand_police_brutality</th>\n",
       "      <th>demand_political_behavior</th>\n",
       "      <th>demand_price_increases</th>\n",
       "      <th>demand_process</th>\n",
       "      <th>demand_removal_of_politician</th>\n",
       "      <th>demand_social_restrictions</th>\n",
       "      <th>demand_tax_policy</th>\n",
       "      <th>response_accomodation</th>\n",
       "      <th>response_arrests</th>\n",
       "      <th>response_beatings</th>\n",
       "      <th>response_crowd_dispersal</th>\n",
       "      <th>response_ignore</th>\n",
       "      <th>response_killings</th>\n",
       "      <th>response_shootings</th>\n",
       "    </tr>\n",
       "  </thead>\n",
       "  <tbody>\n",
       "    <tr>\n",
       "      <th>count</th>\n",
       "      <td>15076.000000</td>\n",
       "      <td>15076.000000</td>\n",
       "      <td>1.507600e+04</td>\n",
       "      <td>15076.000000</td>\n",
       "      <td>15076.000000</td>\n",
       "      <td>15076.000000</td>\n",
       "      <td>15076.000000</td>\n",
       "      <td>15076.000000</td>\n",
       "      <td>15076.000000</td>\n",
       "      <td>15076.000000</td>\n",
       "      <td>15076.000000</td>\n",
       "      <td>15076.000000</td>\n",
       "      <td>15076.000000</td>\n",
       "      <td>15076.000000</td>\n",
       "      <td>15076.000000</td>\n",
       "      <td>15076.000000</td>\n",
       "      <td>15076.000000</td>\n",
       "      <td>15076.000000</td>\n",
       "      <td>15076.000000</td>\n",
       "      <td>15076.000000</td>\n",
       "    </tr>\n",
       "    <tr>\n",
       "      <th>mean</th>\n",
       "      <td>2006.301008</td>\n",
       "      <td>1.560029</td>\n",
       "      <td>1.981867e+04</td>\n",
       "      <td>0.264659</td>\n",
       "      <td>0.145264</td>\n",
       "      <td>0.038405</td>\n",
       "      <td>0.072300</td>\n",
       "      <td>0.705161</td>\n",
       "      <td>0.093062</td>\n",
       "      <td>0.705161</td>\n",
       "      <td>0.123773</td>\n",
       "      <td>0.044972</td>\n",
       "      <td>0.093062</td>\n",
       "      <td>0.099761</td>\n",
       "      <td>0.141019</td>\n",
       "      <td>0.052666</td>\n",
       "      <td>0.312815</td>\n",
       "      <td>0.543977</td>\n",
       "      <td>0.054059</td>\n",
       "      <td>0.061223</td>\n",
       "    </tr>\n",
       "    <tr>\n",
       "      <th>std</th>\n",
       "      <td>8.951656</td>\n",
       "      <td>15.061353</td>\n",
       "      <td>1.569393e+05</td>\n",
       "      <td>0.441166</td>\n",
       "      <td>0.352378</td>\n",
       "      <td>0.192179</td>\n",
       "      <td>0.258993</td>\n",
       "      <td>0.455986</td>\n",
       "      <td>0.290529</td>\n",
       "      <td>0.455986</td>\n",
       "      <td>0.329333</td>\n",
       "      <td>0.207250</td>\n",
       "      <td>0.290529</td>\n",
       "      <td>0.299691</td>\n",
       "      <td>0.348053</td>\n",
       "      <td>0.223374</td>\n",
       "      <td>0.463655</td>\n",
       "      <td>0.498079</td>\n",
       "      <td>0.226142</td>\n",
       "      <td>0.239747</td>\n",
       "    </tr>\n",
       "    <tr>\n",
       "      <th>min</th>\n",
       "      <td>1990.000000</td>\n",
       "      <td>0.000000</td>\n",
       "      <td>1.000000e+00</td>\n",
       "      <td>0.000000</td>\n",
       "      <td>0.000000</td>\n",
       "      <td>0.000000</td>\n",
       "      <td>0.000000</td>\n",
       "      <td>0.000000</td>\n",
       "      <td>0.000000</td>\n",
       "      <td>0.000000</td>\n",
       "      <td>0.000000</td>\n",
       "      <td>0.000000</td>\n",
       "      <td>0.000000</td>\n",
       "      <td>0.000000</td>\n",
       "      <td>0.000000</td>\n",
       "      <td>0.000000</td>\n",
       "      <td>0.000000</td>\n",
       "      <td>0.000000</td>\n",
       "      <td>0.000000</td>\n",
       "      <td>0.000000</td>\n",
       "    </tr>\n",
       "    <tr>\n",
       "      <th>25%</th>\n",
       "      <td>1999.000000</td>\n",
       "      <td>0.000000</td>\n",
       "      <td>1.000000e+02</td>\n",
       "      <td>0.000000</td>\n",
       "      <td>0.000000</td>\n",
       "      <td>0.000000</td>\n",
       "      <td>0.000000</td>\n",
       "      <td>0.000000</td>\n",
       "      <td>0.000000</td>\n",
       "      <td>0.000000</td>\n",
       "      <td>0.000000</td>\n",
       "      <td>0.000000</td>\n",
       "      <td>0.000000</td>\n",
       "      <td>0.000000</td>\n",
       "      <td>0.000000</td>\n",
       "      <td>0.000000</td>\n",
       "      <td>0.000000</td>\n",
       "      <td>0.000000</td>\n",
       "      <td>0.000000</td>\n",
       "      <td>0.000000</td>\n",
       "    </tr>\n",
       "    <tr>\n",
       "      <th>50%</th>\n",
       "      <td>2007.000000</td>\n",
       "      <td>0.000000</td>\n",
       "      <td>5.000000e+02</td>\n",
       "      <td>0.000000</td>\n",
       "      <td>0.000000</td>\n",
       "      <td>0.000000</td>\n",
       "      <td>0.000000</td>\n",
       "      <td>1.000000</td>\n",
       "      <td>0.000000</td>\n",
       "      <td>1.000000</td>\n",
       "      <td>0.000000</td>\n",
       "      <td>0.000000</td>\n",
       "      <td>0.000000</td>\n",
       "      <td>0.000000</td>\n",
       "      <td>0.000000</td>\n",
       "      <td>0.000000</td>\n",
       "      <td>0.000000</td>\n",
       "      <td>1.000000</td>\n",
       "      <td>0.000000</td>\n",
       "      <td>0.000000</td>\n",
       "    </tr>\n",
       "    <tr>\n",
       "      <th>75%</th>\n",
       "      <td>2014.000000</td>\n",
       "      <td>0.000000</td>\n",
       "      <td>5.000000e+03</td>\n",
       "      <td>1.000000</td>\n",
       "      <td>0.000000</td>\n",
       "      <td>0.000000</td>\n",
       "      <td>0.000000</td>\n",
       "      <td>1.000000</td>\n",
       "      <td>0.000000</td>\n",
       "      <td>1.000000</td>\n",
       "      <td>0.000000</td>\n",
       "      <td>0.000000</td>\n",
       "      <td>0.000000</td>\n",
       "      <td>0.000000</td>\n",
       "      <td>0.000000</td>\n",
       "      <td>0.000000</td>\n",
       "      <td>1.000000</td>\n",
       "      <td>1.000000</td>\n",
       "      <td>0.000000</td>\n",
       "      <td>0.000000</td>\n",
       "    </tr>\n",
       "    <tr>\n",
       "      <th>max</th>\n",
       "      <td>2020.000000</td>\n",
       "      <td>938.000000</td>\n",
       "      <td>7.000000e+06</td>\n",
       "      <td>1.000000</td>\n",
       "      <td>1.000000</td>\n",
       "      <td>1.000000</td>\n",
       "      <td>1.000000</td>\n",
       "      <td>1.000000</td>\n",
       "      <td>1.000000</td>\n",
       "      <td>1.000000</td>\n",
       "      <td>1.000000</td>\n",
       "      <td>1.000000</td>\n",
       "      <td>1.000000</td>\n",
       "      <td>1.000000</td>\n",
       "      <td>1.000000</td>\n",
       "      <td>1.000000</td>\n",
       "      <td>1.000000</td>\n",
       "      <td>1.000000</td>\n",
       "      <td>1.000000</td>\n",
       "      <td>1.000000</td>\n",
       "    </tr>\n",
       "  </tbody>\n",
       "</table>\n",
       "</div>"
      ],
      "text/plain": [
       "               year  protest_duration  participants_numeric  \\\n",
       "count  15076.000000      15076.000000          1.507600e+04   \n",
       "mean    2006.301008          1.560029          1.981867e+04   \n",
       "std        8.951656         15.061353          1.569393e+05   \n",
       "min     1990.000000          0.000000          1.000000e+00   \n",
       "25%     1999.000000          0.000000          1.000000e+02   \n",
       "50%     2007.000000          0.000000          5.000000e+02   \n",
       "75%     2014.000000          0.000000          5.000000e+03   \n",
       "max     2020.000000        938.000000          7.000000e+06   \n",
       "\n",
       "       protesterviolence  demand_labor_wage_dispute  demand_land_farm_issue  \\\n",
       "count       15076.000000               15076.000000            15076.000000   \n",
       "mean            0.264659                   0.145264                0.038405   \n",
       "std             0.441166                   0.352378                0.192179   \n",
       "min             0.000000                   0.000000                0.000000   \n",
       "25%             0.000000                   0.000000                0.000000   \n",
       "50%             0.000000                   0.000000                0.000000   \n",
       "75%             1.000000                   0.000000                0.000000   \n",
       "max             1.000000                   1.000000                1.000000   \n",
       "\n",
       "       demand_police_brutality  demand_political_behavior  \\\n",
       "count             15076.000000               15076.000000   \n",
       "mean                  0.072300                   0.705161   \n",
       "std                   0.258993                   0.455986   \n",
       "min                   0.000000                   0.000000   \n",
       "25%                   0.000000                   0.000000   \n",
       "50%                   0.000000                   1.000000   \n",
       "75%                   0.000000                   1.000000   \n",
       "max                   1.000000                   1.000000   \n",
       "\n",
       "       demand_price_increases  demand_process  demand_removal_of_politician  \\\n",
       "count            15076.000000    15076.000000                  15076.000000   \n",
       "mean                 0.093062        0.705161                      0.123773   \n",
       "std                  0.290529        0.455986                      0.329333   \n",
       "min                  0.000000        0.000000                      0.000000   \n",
       "25%                  0.000000        0.000000                      0.000000   \n",
       "50%                  0.000000        1.000000                      0.000000   \n",
       "75%                  0.000000        1.000000                      0.000000   \n",
       "max                  1.000000        1.000000                      1.000000   \n",
       "\n",
       "       demand_social_restrictions  demand_tax_policy  response_accomodation  \\\n",
       "count                15076.000000       15076.000000           15076.000000   \n",
       "mean                     0.044972           0.093062               0.099761   \n",
       "std                      0.207250           0.290529               0.299691   \n",
       "min                      0.000000           0.000000               0.000000   \n",
       "25%                      0.000000           0.000000               0.000000   \n",
       "50%                      0.000000           0.000000               0.000000   \n",
       "75%                      0.000000           0.000000               0.000000   \n",
       "max                      1.000000           1.000000               1.000000   \n",
       "\n",
       "       response_arrests  response_beatings  response_crowd_dispersal  \\\n",
       "count      15076.000000       15076.000000              15076.000000   \n",
       "mean           0.141019           0.052666                  0.312815   \n",
       "std            0.348053           0.223374                  0.463655   \n",
       "min            0.000000           0.000000                  0.000000   \n",
       "25%            0.000000           0.000000                  0.000000   \n",
       "50%            0.000000           0.000000                  0.000000   \n",
       "75%            0.000000           0.000000                  1.000000   \n",
       "max            1.000000           1.000000                  1.000000   \n",
       "\n",
       "       response_ignore  response_killings  response_shootings  \n",
       "count     15076.000000       15076.000000        15076.000000  \n",
       "mean          0.543977           0.054059            0.061223  \n",
       "std           0.498079           0.226142            0.239747  \n",
       "min           0.000000           0.000000            0.000000  \n",
       "25%           0.000000           0.000000            0.000000  \n",
       "50%           1.000000           0.000000            0.000000  \n",
       "75%           1.000000           0.000000            0.000000  \n",
       "max           1.000000           1.000000            1.000000  "
      ]
     },
     "execution_count": 3,
     "metadata": {},
     "output_type": "execute_result"
    }
   ],
   "source": [
    "data.describe()"
   ]
  },
  {
   "cell_type": "markdown",
   "metadata": {
    "ExecuteTime": {
     "end_time": "2024-08-04T14:16:35.412818Z",
     "start_time": "2024-08-04T14:16:35.398968Z"
    },
    "id": "XWms5cTMuJK9"
   },
   "source": [
    "From the above;\n",
    "\n",
    "'protest_duration' and 'participants_numeric'columns have high variability (as indicated by the high standard deviation), suggesting the presence of outliers."
   ]
  },
  {
   "cell_type": "code",
   "execution_count": 4,
   "metadata": {
    "ExecuteTime": {
     "end_time": "2024-08-06T08:03:42.021918Z",
     "start_time": "2024-08-06T08:03:41.993022Z"
    },
    "id": "nOtf1vOjuJK-"
   },
   "outputs": [],
   "source": [
    "# Function to remove outliers based on Z-score\n",
    "numerical_columns = ['participants_numeric', 'protest_duration']\n",
    "def remove_outliers_zscore(data, columns, threshold=4):\n",
    "    for col in columns:\n",
    "        col_zscore = (data[col] - data[col].mean()) / data[col].std()\n",
    "        data = data[np.abs(col_zscore) <= threshold]\n",
    "    return data\n",
    "\n",
    "# Remove outliers from numerical columns\n",
    "data = remove_outliers_zscore(data, numerical_columns)\n"
   ]
  },
  {
   "cell_type": "markdown",
   "metadata": {
    "id": "k4RaYsLBuJK-"
   },
   "source": [
    "### Create Single Target Variable."
   ]
  },
  {
   "cell_type": "code",
   "execution_count": 5,
   "metadata": {
    "ExecuteTime": {
     "end_time": "2024-08-06T08:03:42.053302Z",
     "start_time": "2024-08-06T08:03:42.024373Z"
    },
    "id": "S57gp2YpuJK_"
   },
   "outputs": [],
   "source": [
    "# Drop rows with 0 responses\n",
    "data = data[(data['response_ignore'] == 1) | (data['response_accomodation'] == 1) |\n",
    "            (data['response_crowd_dispersal'] == 1) | (data['response_arrests'] == 1) |\n",
    "            (data['response_beatings'] == 1) | (data['response_shootings'] == 1) |\n",
    "            (data['response_killings'] == 1)]\n",
    "\n",
    "# Create single target variable\n",
    "data['state_response'] = 'Passive or Concessive'\n",
    "\n",
    "passive_or_concessive_conditions = (data['response_ignore'] == 1) | (data['response_accomodation'] == 1)\n",
    "control_measures_conditions = (data['response_crowd_dispersal'] == 1) | (data['response_arrests'] == 1)\n",
    "forceful_repression_conditions = (data['response_beatings'] == 1) | (data['response_shootings'] == 1) | (data['response_killings'] == 1)\n",
    "\n",
    "data.loc[passive_or_concessive_conditions, 'state_response'] = 'Passive or Concessive'\n",
    "data.loc[control_measures_conditions, 'state_response'] = 'Control Measures'\n",
    "data.loc[forceful_repression_conditions, 'state_response'] = 'Forceful Repression'\n",
    "\n",
    "# Drop the original response columns\n",
    "data.drop(columns=['response_accomodation', 'response_arrests', 'response_beatings',\n",
    "                   'response_crowd_dispersal', 'response_ignore',\n",
    "                   'response_killings', 'response_shootings'], inplace=True)\n"
   ]
  },
  {
   "cell_type": "markdown",
   "metadata": {
    "id": "PhVLlujOuJK_"
   },
   "source": [
    "### Region analysis.\n",
    "* We will combine North America (excluding Canada) and Central America into a new region called \"Americas.\"\n",
    "* North and Central America had very few entries between them.\n",
    "* Canada was excluded from 'Americas' as it has a different sociopolitical climate from the rest.\n",
    "* Additionally, we will drop the Oceania region due to its limited representation in the dataset."
   ]
  },
  {
   "cell_type": "code",
   "execution_count": 6,
   "metadata": {
    "ExecuteTime": {
     "end_time": "2024-08-06T08:03:42.313987Z",
     "start_time": "2024-08-06T08:03:42.054735Z"
    },
    "colab": {
     "base_uri": "https://localhost:8080/"
    },
    "id": "jE0tRQ_RuJK_",
    "outputId": "9ae6a104-1cd3-4d75-f1e9-34c5c28e1316"
   },
   "outputs": [
    {
     "name": "stdout",
     "output_type": "stream",
     "text": [
      "region\n",
      "Europe           4911\n",
      "Africa           3162\n",
      "Asia             3011\n",
      "South America    1588\n",
      "MENA             1227\n",
      "Americas          903\n",
      "Canada             51\n",
      "Name: count, dtype: int64\n"
     ]
    }
   ],
   "source": [
    "# Combine North America (excluding Canada) and Central America into \"Americas\"\n",
    "data['region'] = data.apply(lambda x: 'Americas' if x['region'] in ['North America', 'Central America'] and x['country'] != 'Canada' else x['region'], axis=1)\n",
    "\n",
    "# Keep Canada in its own region\n",
    "data['region'] = data.apply(lambda x: 'Canada' if x['country'] == 'Canada' else x['region'], axis=1)\n",
    "\n",
    "# Drop Oceania\n",
    "data = data[data['region'] != 'Oceania']\n",
    "\n",
    "# Verify the changes\n",
    "print(data['region'].value_counts())\n"
   ]
  },
  {
   "cell_type": "markdown",
   "metadata": {
    "id": "kO4GuXGiuJLA"
   },
   "source": [
    "#### Encode Region.\n",
    "* 'region' is label encoded as we'll mostly use Tree-Based Algorithms.\n",
    "* 'country' is dropped."
   ]
  },
  {
   "cell_type": "code",
   "execution_count": 7,
   "metadata": {
    "ExecuteTime": {
     "end_time": "2024-08-06T08:03:42.345492Z",
     "start_time": "2024-08-06T08:03:42.315989Z"
    },
    "colab": {
     "base_uri": "https://localhost:8080/"
    },
    "id": "4vtorIUXSRqg",
    "outputId": "4669bb1b-759f-4223-fb32-bdd5951cc49e"
   },
   "outputs": [
    {
     "name": "stdout",
     "output_type": "stream",
     "text": [
      "   region  year  start_date    end_date  protest_duration  \\\n",
      "0       3  1990  1990-01-15  1990-01-15                 0   \n",
      "1       3  1990  1990-06-25  1990-06-25                 0   \n",
      "2       3  1990  1990-07-01  1990-07-01                 0   \n",
      "3       3  1990  1990-07-12  1990-09-06                56   \n",
      "4       3  1990  1990-08-14  1990-08-15                 1   \n",
      "\n",
      "   participants_numeric  protesterviolence           protesteridentity  \\\n",
      "0                  5000                  0                 unspecified   \n",
      "1                  1000                  0                 unspecified   \n",
      "2                   500                  0  separatist parti quebecois   \n",
      "3                   500                  1              mohawk indians   \n",
      "4                   950                  1             local residents   \n",
      "\n",
      "   demand_labor_wage_dispute  demand_land_farm_issue  demand_police_brutality  \\\n",
      "0                          1                       0                        0   \n",
      "1                          0                       0                        0   \n",
      "2                          0                       0                        0   \n",
      "3                          0                       1                        0   \n",
      "4                          0                       0                        0   \n",
      "\n",
      "   demand_political_behavior  demand_price_increases  demand_process  \\\n",
      "0                          1                       0               1   \n",
      "1                          1                       0               1   \n",
      "2                          1                       0               1   \n",
      "3                          0                       0               0   \n",
      "4                          1                       0               1   \n",
      "\n",
      "   demand_removal_of_politician  demand_social_restrictions  \\\n",
      "0                             0                           0   \n",
      "1                             0                           0   \n",
      "2                             0                           0   \n",
      "3                             0                           0   \n",
      "4                             0                           0   \n",
      "\n",
      "   demand_tax_policy                                            sources  \\\n",
      "0                  0  1. great canadian train journeys into history;...   \n",
      "1                  0  1. autonomy s cry revived in quebec the new yo...   \n",
      "2                  0  1. quebec protest after queen calls for unity ...   \n",
      "3                  0  1. indians gather as siege intensifies; armed ...   \n",
      "4                  0  1. dozens hurt in mohawk blockade protest the ...   \n",
      "\n",
      "                                               notes         state_response  \n",
      "0  canada s railway passenger system was finally ...  Passive or Concessive  \n",
      "1  protestors were only identified as young peopl...  Passive or Concessive  \n",
      "2  the queen, after calling on canadians to remai...  Passive or Concessive  \n",
      "3  canada s federal government has agreed to acqu...  Passive or Concessive  \n",
      "4  protests were directed against the state due t...       Control Measures  \n"
     ]
    }
   ],
   "source": [
    "# Drop the 'country' column\n",
    "data = data.drop(columns=['country'])\n",
    "\n",
    "# Label encode the 'region' column\n",
    "label_encoder = LabelEncoder()\n",
    "data['region'] = label_encoder.fit_transform(data['region'])\n",
    "\n",
    "# Reset index to avoid misalignment issues\n",
    "data = data.reset_index(drop=True)\n",
    "\n",
    "# Check the first few rows to ensure encoding worked correctly\n",
    "print(data.head())\n"
   ]
  },
  {
   "cell_type": "markdown",
   "metadata": {
    "id": "WJKraq5VuJLA"
   },
   "source": [
    "## Baseline & Main Models."
   ]
  },
  {
   "cell_type": "markdown",
   "metadata": {
    "id": "f1AXUzhYuJLB"
   },
   "source": [
    "* Defining Independent and Dependent Variables."
   ]
  },
  {
   "cell_type": "code",
   "execution_count": 8,
   "metadata": {
    "ExecuteTime": {
     "end_time": "2024-08-06T08:03:42.469304Z",
     "start_time": "2024-08-06T08:03:42.348490Z"
    },
    "id": "vOdKjq1yuJLB"
   },
   "outputs": [],
   "source": [
    "# Defining Target Variable.\n",
    "X = data.drop(columns=[\n",
    "    'state_response', 'year', 'start_date', 'end_date',\n",
    "    'protesteridentity', 'sources', 'notes'\n",
    "])\n",
    "y = data['state_response']\n",
    "\n",
    "# Apply SMOTE\n",
    "smote = SMOTE(random_state=42)\n",
    "X_res, y_res = smote.fit_resample(X, y)\n",
    "\n",
    "# Scale the data\n",
    "scaler = StandardScaler()\n",
    "X_res = scaler.fit_transform(X_res)\n",
    "\n",
    "# Split the data\n",
    "X_train, X_test, y_train, y_test = train_test_split(X_res, y_res, test_size=0.2, random_state=42)\n"
   ]
  },
  {
   "cell_type": "markdown",
   "metadata": {
    "id": "_5tu6_M7uJLB"
   },
   "source": [
    "### Baseline Model."
   ]
  },
  {
   "cell_type": "markdown",
   "metadata": {
    "id": "frp295v6uJLB"
   },
   "source": [
    "#### Logistic Regression."
   ]
  },
  {
   "cell_type": "code",
   "execution_count": 9,
   "metadata": {
    "ExecuteTime": {
     "end_time": "2024-08-06T08:03:42.734311Z",
     "start_time": "2024-08-06T08:03:42.471304Z"
    },
    "colab": {
     "base_uri": "https://localhost:8080/"
    },
    "id": "7RIFcQT_uJLC",
    "outputId": "13c9c12c-017f-4ba8-a48c-1e665b6cd219"
   },
   "outputs": [
    {
     "name": "stdout",
     "output_type": "stream",
     "text": [
      "Training Accuracy: 0.5303266676121591\n",
      "Test Accuracy: 0.526942711287578\n",
      "Classification Report:\n",
      "                       precision    recall  f1-score   support\n",
      "\n",
      "     Control Measures       0.49      0.14      0.22      1810\n",
      "  Forceful Repression       0.55      0.55      0.55      1763\n",
      "Passive or Concessive       0.52      0.91      0.66      1716\n",
      "\n",
      "             accuracy                           0.53      5289\n",
      "            macro avg       0.52      0.53      0.48      5289\n",
      "         weighted avg       0.52      0.53      0.47      5289\n",
      "\n"
     ]
    }
   ],
   "source": [
    "# Create and train the baseline logistic regression model\n",
    "logistic_model = LogisticRegression(random_state=42)\n",
    "logistic_model.fit(X_train, y_train)\n",
    "\n",
    "# Predict on the test set\n",
    "y_test_pred = logistic_model.predict(X_test)\n",
    "# Predict on the training set\n",
    "y_train_pred = logistic_model.predict(X_train)\n",
    "\n",
    "# Evaluate the model\n",
    "test_accuracy = accuracy_score(y_test, y_test_pred)\n",
    "train_accuracy = accuracy_score(y_train, y_train_pred)\n",
    "classification_rep = classification_report(y_test, y_test_pred)\n",
    "\n",
    "print(f\"Training Accuracy: {train_accuracy}\")\n",
    "print(f\"Test Accuracy: {test_accuracy}\")\n",
    "print(\"Classification Report:\")\n",
    "print(classification_rep)\n"
   ]
  },
  {
   "cell_type": "markdown",
   "metadata": {
    "id": "NAWpReAiuJLC"
   },
   "source": [
    "Baseline Model: Logistic Regression.\n",
    "\n",
    "The model's accuracy on the *training data* is 52.9%, which suggests that the model is capturing some patterns in the training data but is not highly accurate.\n",
    "Test Accuracy: 0.526\n",
    "\n",
    "The model's accuracy on the *test data* is 52.6%, indicating a similar performance on unseen data and that the model is generalizing reasonably but not exceptionally well."
   ]
  },
  {
   "cell_type": "markdown",
   "metadata": {
    "id": "sONkUO53uJLC"
   },
   "source": [
    "*Control Measures* have a low recall (0.14), meaning the model often misses instances of this class.\n",
    "\n",
    "*Forceful Repression and Passive or Concessive* have higher recall values (0.55 and 0.91, respectively), indicating the model is better at identifying these classes.\n",
    "\n",
    "Overall, the model has moderate performance with balanced precision and recall across most classes, but there's room for improvement in correctly identifying Control Measures.\n",
    "\n",
    "To improve performance, we consider:\n",
    "\n",
    "* *Hyperparameter tuning*\n",
    "\n",
    "* *Trying different algorithms (e.g., XGBoost, GradientBoosting)*\n",
    "\n",
    "* *Feature engineering*\n",
    "\n",
    "* *Addressing class imbalance (e.g., using SMOTE)*"
   ]
  },
  {
   "cell_type": "markdown",
   "metadata": {
    "id": "8fVBQnosuJLD"
   },
   "source": [
    "### Main Models."
   ]
  },
  {
   "cell_type": "markdown",
   "metadata": {
    "ExecuteTime": {
     "end_time": "2024-08-03T00:49:32.015295Z",
     "start_time": "2024-08-03T00:49:32.005707Z"
    },
    "id": "x0uyerIAuJLD"
   },
   "source": [
    "#### Random Forest Classifier."
   ]
  },
  {
   "cell_type": "code",
   "execution_count": 10,
   "metadata": {
    "ExecuteTime": {
     "end_time": "2024-08-06T08:03:44.124156Z",
     "start_time": "2024-08-06T08:03:42.736222Z"
    },
    "colab": {
     "base_uri": "https://localhost:8080/"
    },
    "id": "Joqk7r96uJLD",
    "outputId": "d64b1c36-205f-45a7-cfab-9f6fc776afdc"
   },
   "outputs": [
    {
     "name": "stdout",
     "output_type": "stream",
     "text": [
      "Random Forest Training Accuracy: 0.706897366803763\n",
      "Random Forest Test Accuracy: 0.6326337681981471\n",
      "Random Forest Classification Report:\n",
      "                       precision    recall  f1-score   support\n",
      "\n",
      "     Control Measures       0.58      0.48      0.53      1810\n",
      "  Forceful Repression       0.66      0.71      0.68      1763\n",
      "Passive or Concessive       0.65      0.71      0.68      1716\n",
      "\n",
      "             accuracy                           0.63      5289\n",
      "            macro avg       0.63      0.63      0.63      5289\n",
      "         weighted avg       0.63      0.63      0.63      5289\n",
      "\n"
     ]
    }
   ],
   "source": [
    "# Create and train the Random Forest model\n",
    "rf_model = RandomForestClassifier(random_state=42)\n",
    "rf_model.fit(X_train, y_train)\n",
    "\n",
    "# Predict on the test set\n",
    "y_test_pred_rf = rf_model.predict(X_test)\n",
    "# Predict on the training set\n",
    "y_train_pred_rf = rf_model.predict(X_train)\n",
    "\n",
    "# Evaluate the model\n",
    "test_accuracy_rf = accuracy_score(y_test, y_test_pred_rf)\n",
    "train_accuracy_rf = accuracy_score(y_train, y_train_pred_rf)\n",
    "classification_rep_rf = classification_report(y_test, y_test_pred_rf)\n",
    "\n",
    "print(f\"Random Forest Training Accuracy: {train_accuracy_rf}\")\n",
    "print(f\"Random Forest Test Accuracy: {test_accuracy_rf}\")\n",
    "print(\"Random Forest Classification Report:\")\n",
    "print(classification_rep_rf)\n"
   ]
  },
  {
   "cell_type": "markdown",
   "metadata": {
    "id": "E3fpRzL9uJLE"
   },
   "source": [
    "#### XGBoost."
   ]
  },
  {
   "cell_type": "code",
   "execution_count": 11,
   "metadata": {
    "ExecuteTime": {
     "end_time": "2024-08-06T08:03:45.744475Z",
     "start_time": "2024-08-06T08:03:44.126357Z"
    },
    "colab": {
     "base_uri": "https://localhost:8080/"
    },
    "id": "ps7OCkJQuJLE",
    "outputId": "98fc6d2c-55ab-4b7b-94f2-1cd1ddad6ad6"
   },
   "outputs": [
    {
     "name": "stdout",
     "output_type": "stream",
     "text": [
      "XGBoost Training Accuracy: 0.658015411525552\n",
      "XGBoost Test Accuracy: 0.6305539799584042\n",
      "XGBoost Classification Report:\n",
      "                       precision    recall  f1-score   support\n",
      "\n",
      "     Control Measures       0.64      0.37      0.47      1810\n",
      "  Forceful Repression       0.64      0.72      0.68      1763\n",
      "Passive or Concessive       0.62      0.81      0.70      1716\n",
      "\n",
      "             accuracy                           0.63      5289\n",
      "            macro avg       0.63      0.63      0.62      5289\n",
      "         weighted avg       0.63      0.63      0.61      5289\n",
      "\n"
     ]
    }
   ],
   "source": [
    "# Instantiate the LabelEncoder\n",
    "le = LabelEncoder()\n",
    "\n",
    "# Fit and transform the labels\n",
    "y_train_encoded = le.fit_transform(y_train)\n",
    "y_test_encoded = le.transform(y_test)  # if you have a separate test set\n",
    "\n",
    "# Create and train the XGBoost model\n",
    "xgb_model = XGBClassifier(random_state=42, eval_metric='logloss')\n",
    "xgb_model.fit(X_train, y_train_encoded)\n",
    "\n",
    "# Predict on the test set\n",
    "y_test_pred_xgb = xgb_model.predict(X_test)\n",
    "# Predict on the training set\n",
    "y_train_pred_xgb = xgb_model.predict(X_train)\n",
    "\n",
    "# Evaluate the model\n",
    "test_accuracy_xgb = accuracy_score(y_test_encoded, y_test_pred_xgb)\n",
    "train_accuracy_xgb = accuracy_score(y_train_encoded, y_train_pred_xgb)\n",
    "classification_rep_xgb = classification_report(y_test_encoded, y_test_pred_xgb, target_names=le.classes_)\n",
    "\n",
    "print(f\"XGBoost Training Accuracy: {train_accuracy_xgb}\")\n",
    "print(f\"XGBoost Test Accuracy: {test_accuracy_xgb}\")\n",
    "print(\"XGBoost Classification Report:\")\n",
    "print(classification_rep_xgb)"
   ]
  },
  {
   "cell_type": "markdown",
   "metadata": {
    "id": "OXfil2IPuJLE"
   },
   "source": [
    "#### Gradient Boosting."
   ]
  },
  {
   "cell_type": "code",
   "execution_count": 12,
   "metadata": {
    "ExecuteTime": {
     "end_time": "2024-08-06T08:03:49.157805Z",
     "start_time": "2024-08-06T08:03:45.746480Z"
    },
    "colab": {
     "base_uri": "https://localhost:8080/"
    },
    "id": "SzD0dIiAuJLF",
    "outputId": "5ea7b1ad-7575-444b-d91b-d644d4c664ad",
    "scrolled": true
   },
   "outputs": [
    {
     "name": "stdout",
     "output_type": "stream",
     "text": [
      "Gradient Boosting Training Accuracy: 0.5866780125750485\n",
      "Gradient Boosting Test Accuracy: 0.5868784269238041\n",
      "Gradient Boosting Classification Report:\n",
      "                       precision    recall  f1-score   support\n",
      "\n",
      "     Control Measures       0.55      0.31      0.39      1810\n",
      "  Forceful Repression       0.63      0.62      0.63      1763\n",
      "Passive or Concessive       0.57      0.84      0.68      1716\n",
      "\n",
      "             accuracy                           0.59      5289\n",
      "            macro avg       0.59      0.59      0.57      5289\n",
      "         weighted avg       0.59      0.59      0.56      5289\n",
      "\n"
     ]
    }
   ],
   "source": [
    "# Create and train the Gradient Boosting model\n",
    "gb_model = GradientBoostingClassifier(random_state=42)\n",
    "gb_model.fit(X_train, y_train)\n",
    "\n",
    "# Predict on the test set\n",
    "y_test_pred_gb = gb_model.predict(X_test)\n",
    "# Predict on the training set\n",
    "y_train_pred_gb = gb_model.predict(X_train)\n",
    "\n",
    "# Evaluate the model\n",
    "test_accuracy_gb = accuracy_score(y_test, y_test_pred_gb)\n",
    "train_accuracy_gb = accuracy_score(y_train, y_train_pred_gb)\n",
    "classification_rep_gb = classification_report(y_test, y_test_pred_gb)\n",
    "\n",
    "print(f\"Gradient Boosting Training Accuracy: {train_accuracy_gb}\")\n",
    "print(f\"Gradient Boosting Test Accuracy: {test_accuracy_gb}\")\n",
    "print(\"Gradient Boosting Classification Report:\")\n",
    "print(classification_rep_gb)\n"
   ]
  },
  {
   "cell_type": "markdown",
   "metadata": {
    "id": "pKGGnn3fuJLF"
   },
   "source": [
    "#### SVC."
   ]
  },
  {
   "cell_type": "code",
   "execution_count": 13,
   "metadata": {
    "ExecuteTime": {
     "end_time": "2024-08-06T08:04:51.129222Z",
     "start_time": "2024-08-06T08:03:49.159714Z"
    },
    "colab": {
     "base_uri": "https://localhost:8080/"
    },
    "id": "xYyw6vwRuJLF",
    "outputId": "adc0ba73-eae0-456c-b1b6-ff3a7b761d67"
   },
   "outputs": [
    {
     "name": "stdout",
     "output_type": "stream",
     "text": [
      "SVC Training Accuracy: 0.5477237271309034\n",
      "SVC Test Accuracy: 0.5458498771034221\n",
      "SVC Classification Report:\n",
      "                       precision    recall  f1-score   support\n",
      "\n",
      "     Control Measures       0.55      0.17      0.26      1810\n",
      "  Forceful Repression       0.59      0.56      0.58      1763\n",
      "Passive or Concessive       0.52      0.93      0.67      1716\n",
      "\n",
      "             accuracy                           0.55      5289\n",
      "            macro avg       0.55      0.55      0.50      5289\n",
      "         weighted avg       0.55      0.55      0.50      5289\n",
      "\n"
     ]
    }
   ],
   "source": [
    "# Create and train the SVC model\n",
    "svc_model = SVC(random_state=42)\n",
    "svc_model.fit(X_train, y_train)\n",
    "\n",
    "# Predict on the test set\n",
    "y_test_pred_svc = svc_model.predict(X_test)\n",
    "# Predict on the training set\n",
    "y_train_pred_svc = svc_model.predict(X_train)\n",
    "\n",
    "# Evaluate the model\n",
    "test_accuracy_svc = accuracy_score(y_test, y_test_pred_svc)\n",
    "train_accuracy_svc = accuracy_score(y_train, y_train_pred_svc)\n",
    "classification_rep_svc = classification_report(y_test, y_test_pred_svc)\n",
    "\n",
    "print(f\"SVC Training Accuracy: {train_accuracy_svc}\")\n",
    "print(f\"SVC Test Accuracy: {test_accuracy_svc}\")\n",
    "print(\"SVC Classification Report:\")\n",
    "print(classification_rep_svc)\n"
   ]
  },
  {
   "cell_type": "markdown",
   "metadata": {
    "id": "Q80KMQ2iuJLH"
   },
   "source": [
    "## Model Tuning & Feature Engineering."
   ]
  },
  {
   "cell_type": "markdown",
   "metadata": {
    "id": "QomAXxfTuJLH"
   },
   "source": [
    "* Feature Engineering."
   ]
  },
  {
   "cell_type": "markdown",
   "metadata": {
    "id": "DPA_G3mWuJLH"
   },
   "source": [
    "### Apply Latent Dirichlet Allocation (LDA)\n",
    "* Data Preprocessing of text data.\n",
    "* Applying Latent Dirichlet Allocation (LDA) to text columns for dimensionality reduction and creating topic features."
   ]
  },
  {
   "cell_type": "markdown",
   "metadata": {
    "id": "oH47pJzyuJLI"
   },
   "source": [
    "1. PREPROCESS TEXT DATA."
   ]
  },
  {
   "cell_type": "code",
   "execution_count": 14,
   "metadata": {
    "ExecuteTime": {
     "end_time": "2024-08-06T08:04:58.964265Z",
     "start_time": "2024-08-06T08:04:51.130223Z"
    },
    "colab": {
     "base_uri": "https://localhost:8080/",
     "height": 293
    },
    "id": "0YbKeEtKuJLI",
    "outputId": "175fe991-84dd-4391-e4f4-423733e39e6f"
   },
   "outputs": [
    {
     "data": {
      "text/html": [
       "<div>\n",
       "<style scoped>\n",
       "    .dataframe tbody tr th:only-of-type {\n",
       "        vertical-align: middle;\n",
       "    }\n",
       "\n",
       "    .dataframe tbody tr th {\n",
       "        vertical-align: top;\n",
       "    }\n",
       "\n",
       "    .dataframe thead th {\n",
       "        text-align: right;\n",
       "    }\n",
       "</style>\n",
       "<table border=\"1\" class=\"dataframe\">\n",
       "  <thead>\n",
       "    <tr style=\"text-align: right;\">\n",
       "      <th></th>\n",
       "      <th>sources</th>\n",
       "      <th>notes</th>\n",
       "      <th>protesteridentity</th>\n",
       "      <th>combined_text</th>\n",
       "    </tr>\n",
       "  </thead>\n",
       "  <tbody>\n",
       "    <tr>\n",
       "      <th>0</th>\n",
       "      <td>1. great canadian train journeys into history;...</td>\n",
       "      <td>canada s railway passenger system was finally ...</td>\n",
       "      <td>unspecified</td>\n",
       "      <td>great canadian train journey history passenger...</td>\n",
       "    </tr>\n",
       "    <tr>\n",
       "      <th>1</th>\n",
       "      <td>1. autonomy s cry revived in quebec the new yo...</td>\n",
       "      <td>protestors were only identified as young peopl...</td>\n",
       "      <td>unspecified</td>\n",
       "      <td>autonomy cry revived quebec new york time june...</td>\n",
       "    </tr>\n",
       "    <tr>\n",
       "      <th>2</th>\n",
       "      <td>1. quebec protest after queen calls for unity ...</td>\n",
       "      <td>the queen, after calling on canadians to remai...</td>\n",
       "      <td>separatist parti quebecois</td>\n",
       "      <td>quebec protest queen call unity time july mond...</td>\n",
       "    </tr>\n",
       "    <tr>\n",
       "      <th>3</th>\n",
       "      <td>1. indians gather as siege intensifies; armed ...</td>\n",
       "      <td>canada s federal government has agreed to acqu...</td>\n",
       "      <td>mohawk indians</td>\n",
       "      <td>indian gather siege intensifies armed confront...</td>\n",
       "    </tr>\n",
       "    <tr>\n",
       "      <th>4</th>\n",
       "      <td>1. dozens hurt in mohawk blockade protest the ...</td>\n",
       "      <td>protests were directed against the state due t...</td>\n",
       "      <td>local residents</td>\n",
       "      <td>dozen hurt mohawk blockade protest time august...</td>\n",
       "    </tr>\n",
       "  </tbody>\n",
       "</table>\n",
       "</div>"
      ],
      "text/plain": [
       "                                             sources  \\\n",
       "0  1. great canadian train journeys into history;...   \n",
       "1  1. autonomy s cry revived in quebec the new yo...   \n",
       "2  1. quebec protest after queen calls for unity ...   \n",
       "3  1. indians gather as siege intensifies; armed ...   \n",
       "4  1. dozens hurt in mohawk blockade protest the ...   \n",
       "\n",
       "                                               notes  \\\n",
       "0  canada s railway passenger system was finally ...   \n",
       "1  protestors were only identified as young peopl...   \n",
       "2  the queen, after calling on canadians to remai...   \n",
       "3  canada s federal government has agreed to acqu...   \n",
       "4  protests were directed against the state due t...   \n",
       "\n",
       "            protesteridentity  \\\n",
       "0                 unspecified   \n",
       "1                 unspecified   \n",
       "2  separatist parti quebecois   \n",
       "3              mohawk indians   \n",
       "4             local residents   \n",
       "\n",
       "                                       combined_text  \n",
       "0  great canadian train journey history passenger...  \n",
       "1  autonomy cry revived quebec new york time june...  \n",
       "2  quebec protest queen call unity time july mond...  \n",
       "3  indian gather siege intensifies armed confront...  \n",
       "4  dozen hurt mohawk blockade protest time august...  "
      ]
     },
     "execution_count": 14,
     "metadata": {},
     "output_type": "execute_result"
    }
   ],
   "source": [
    "# Initialize the WordNetLemmatizer\n",
    "lemmatizer = WordNetLemmatizer()\n",
    "stop_words = set(stopwords.words('english'))\n",
    "\n",
    "# Function to combine and preprocess text\n",
    "def combine_preprocess_text(row):\n",
    "    combined_text = f\"{row['sources']} {row['notes']} {row['protesteridentity']}\"\n",
    "    text = re.sub(r'[^\\w\\s]', ' ', combined_text)\n",
    "    text = re.sub(r'\\d+', '', text)\n",
    "    text = text.lower()\n",
    "    tokens = text.split()\n",
    "    tokens = [lemmatizer.lemmatize(word) for word in tokens if word not in stop_words]\n",
    "    processed_text = ' '.join(tokens)\n",
    "    return processed_text\n",
    "\n",
    "# Apply the preprocessing function to the relevant columns and create a new column 'combined_text'\n",
    "data['combined_text'] = data.apply(combine_preprocess_text, axis=1)\n",
    "\n",
    "# Display the first few rows of the new column\n",
    "data[['sources', 'notes', 'protesteridentity', 'combined_text']].head()\n"
   ]
  },
  {
   "cell_type": "markdown",
   "metadata": {
    "id": "uCINhlv-uJLJ"
   },
   "source": [
    "2. Vectorize."
   ]
  },
  {
   "cell_type": "code",
   "execution_count": 15,
   "metadata": {
    "ExecuteTime": {
     "end_time": "2024-08-06T08:06:09.194367Z",
     "start_time": "2024-08-06T08:04:58.966605Z"
    },
    "id": "YN0fzoGPuJLJ"
   },
   "outputs": [],
   "source": [
    "# Vectorize text data\n",
    "vectorizer = CountVectorizer(max_features=1000)\n",
    "text_data = vectorizer.fit_transform(data['combined_text'])\n",
    "\n",
    "# Apply LDA\n",
    "lda = LatentDirichletAllocation(n_components=17, random_state=42)\n",
    "lda_features = lda.fit_transform(text_data)\n",
    "\n",
    "# Add LDA features to the dataset\n",
    "for i in range(17):\n",
    "    data[f'lda_topic_{i}'] = lda_features[:, i]\n"
   ]
  },
  {
   "cell_type": "code",
   "execution_count": 16,
   "metadata": {
    "ExecuteTime": {
     "end_time": "2024-08-06T08:06:13.365389Z",
     "start_time": "2024-08-06T08:06:09.196311Z"
    },
    "colab": {
     "base_uri": "https://localhost:8080/"
    },
    "id": "QTkdQ3SGuJLU",
    "outputId": "b2069c0b-657c-45a1-9167-fe845308e135"
   },
   "outputs": [
    {
     "name": "stdout",
     "output_type": "stream",
     "text": [
      "Perplexity: 433.3203336038559\n"
     ]
    }
   ],
   "source": [
    "# Calculate Perplexity\n",
    "perplexity = lda.perplexity(text_data)\n",
    "print(f'Perplexity: {perplexity}')\n"
   ]
  },
  {
   "cell_type": "code",
   "execution_count": 17,
   "metadata": {
    "ExecuteTime": {
     "end_time": "2024-08-06T08:07:31.265065Z",
     "start_time": "2024-08-06T08:06:13.366391Z"
    },
    "colab": {
     "base_uri": "https://localhost:8080/"
    },
    "id": "xKyWvgZ4uJLV",
    "outputId": "b1f39996-f445-405b-a1cb-508eb438b907"
   },
   "outputs": [
    {
     "name": "stdout",
     "output_type": "stream",
     "text": [
      "Coherence Score: 0.4082924064054006\n"
     ]
    }
   ],
   "source": [
    "# Preparing data for gensim coherence score\n",
    "texts = [text.split() for text in data['combined_text']]\n",
    "dictionary = corpora.Dictionary(texts)\n",
    "corpus = [dictionary.doc2bow(text) for text in texts]\n",
    "\n",
    "# Creating the gensim LDA model for coherence score\n",
    "gensim_lda_model = gensim.models.LdaModel(\n",
    "    corpus=corpus,\n",
    "    id2word=dictionary,\n",
    "    num_topics=10,\n",
    "    random_state=42,\n",
    "    passes=10\n",
    ")\n",
    "\n",
    "# Calculating Coherence Score\n",
    "coherence_model_lda = CoherenceModel(model=gensim_lda_model, texts=texts, dictionary=dictionary, coherence='c_v')\n",
    "coherence_lda = coherence_model_lda.get_coherence()\n",
    "print(f'Coherence Score: {coherence_lda}')\n"
   ]
  },
  {
   "cell_type": "markdown",
   "metadata": {
    "id": "adAlCp8kuJLW"
   },
   "source": [
    "*Coherence Score: 0.408*\n",
    "\n",
    "Measures the semantic similarity of words within topics. A score closer to 1 indicates more coherent and meaningful topics. Our score of 0.408 suggests that the topics are moderately coherent, but there may be room for improvement.\n",
    "\n",
    "*Perplexity: 433.32*\n",
    "\n",
    "Measures how well the model predicts a sample. Lower values indicate better predictive performance. Our perplexity value of 433.32 suggests that the model may not be capturing the text data's underlying structure perfectly."
   ]
  },
  {
   "cell_type": "markdown",
   "metadata": {
    "id": "qKGiHqbcuJLW"
   },
   "source": [
    "### Feature Engineering with Sentiment Analysis and Named Entity Recognition (NER)\n",
    "* We will apply additional feature engineering techniques including sentiment analysis and named entity recognition (NER)."
   ]
  },
  {
   "cell_type": "code",
   "execution_count": 18,
   "metadata": {
    "ExecuteTime": {
     "end_time": "2024-08-06T08:11:40.436374Z",
     "start_time": "2024-08-06T08:07:31.269063Z"
    },
    "id": "DmV-IOn2uJLW"
   },
   "outputs": [],
   "source": [
    "# Load Spacy model for NER\n",
    "nlp = spacy.load(\"en_core_web_sm\")\n",
    "\n",
    "# Function to compute sentiment scores\n",
    "def get_sentiment(text):\n",
    "    blob = TextBlob(text)\n",
    "    return blob.sentiment.polarity, blob.sentiment.subjectivity\n",
    "\n",
    "# Function to extract named entities\n",
    "def get_named_entities(text):\n",
    "    doc = nlp(text)\n",
    "    entities = [ent.label_ for ent in doc.ents]\n",
    "    return ' '.join(entities)\n",
    "\n",
    "# Function to extract date-related features\n",
    "def get_date_features(date_column):\n",
    "    dates = pd.to_datetime(date_column, errors='coerce')\n",
    "    return dates.dt.year, dates.dt.month, dates.dt.day, dates.dt.weekday\n",
    "\n",
    "# Apply feature engineering\n",
    "data['sentiment_polarity'], data['sentiment_subjectivity'] = zip(*data['notes'].apply(get_sentiment))\n",
    "data['named_entities'] = data['notes'].apply(get_named_entities)\n",
    "\n",
    "# Extract date-related features\n",
    "if 'start_date' in data.columns:\n",
    "    data['year'], data['month'], data['day'], data['weekday'] = get_date_features(data['start_date'])\n",
    "\n",
    "# TF-IDF Vectorization for text data (notes and sources columns)\n",
    "tfidf_vectorizer = TfidfVectorizer(max_features=500)\n",
    "tfidf_notes = tfidf_vectorizer.fit_transform(data['notes']).toarray()\n",
    "tfidf_sources = tfidf_vectorizer.fit_transform(data['sources']).toarray()\n",
    "\n",
    "# Add TF-IDF features to the dataframe\n",
    "tfidf_notes_df = pd.DataFrame(tfidf_notes, columns=[f'tfidf_notes_{i}' for i in range(tfidf_notes.shape[1])])\n",
    "tfidf_sources_df = pd.DataFrame(tfidf_sources, columns=[f'tfidf_sources_{i}' for i in range(tfidf_sources.shape[1])])\n",
    "\n",
    "data = pd.concat([data, tfidf_notes_df, tfidf_sources_df], axis=1)\n",
    "\n",
    "# Drop original text columns and any other non-numeric columns if necessary\n",
    "data = data.drop(columns=['notes', 'sources', 'combined_text',\n",
    "                          'year', 'start_date', 'end_date', 'protesteridentity'], errors='ignore')\n",
    "\n",
    "# Ensure all columns except 'state_response' are numeric\n",
    "data = data.apply(lambda x: pd.to_numeric(x, errors='coerce') if x.name != 'state_response' else x).fillna(0)\n"
   ]
  },
  {
   "cell_type": "markdown",
   "metadata": {
    "ExecuteTime": {
     "end_time": "2024-08-03T00:55:01.891099Z",
     "start_time": "2024-08-03T00:55:01.882111Z"
    },
    "id": "YEfVPdkUuJLX"
   },
   "source": [
    "* Distribution of Sentiment Scores."
   ]
  },
  {
   "cell_type": "code",
   "execution_count": 19,
   "metadata": {
    "ExecuteTime": {
     "end_time": "2024-08-06T08:11:41.368194Z",
     "start_time": "2024-08-06T08:11:40.438376Z"
    },
    "colab": {
     "base_uri": "https://localhost:8080/",
     "height": 625
    },
    "id": "UNzRTsYfuJLX",
    "outputId": "24616169-c05c-4447-f30e-74c5ce9a6acd"
   },
   "outputs": [
    {
     "data": {
      "image/png": "[encoded data removed]",
      "text/plain": [
       "<Figure size 864x432 with 2 Axes>"
      ]
     },
     "metadata": {
      "needs_background": "light"
     },
     "output_type": "display_data"
    },
    {
     "name": "stdout",
     "output_type": "stream",
     "text": [
      "Correlation between sentiment polarity and state response: 0.11070480321556378\n",
      "Correlation between sentiment subjectivity and state response: 0.013367305357222196\n"
     ]
    }
   ],
   "source": [
    "# Convert state_response to numeric values temporarily using LabelEncoder\n",
    "temp_data = data.copy()\n",
    "label_encoder = LabelEncoder()\n",
    "temp_data['state_response_numeric'] = label_encoder.fit_transform(temp_data['state_response'])\n",
    "\n",
    "# Plot the distribution of sentiment scores\n",
    "plt.figure(figsize=(12, 6))\n",
    "\n",
    "# Plot sentiment polarity distribution\n",
    "plt.subplot(1, 2, 1)\n",
    "sns.histplot(np.array(data['sentiment_polarity']), bins=30, kde=True)\n",
    "plt.title('Sentiment Polarity Distribution')\n",
    "\n",
    "# Plot sentiment subjectivity distribution\n",
    "plt.subplot(1, 2, 2)\n",
    "sns.histplot(data['sentiment_subjectivity'], bins=30, kde=True)\n",
    "plt.title('Sentiment Subjectivity Distribution')\n",
    "\n",
    "plt.tight_layout()\n",
    "plt.show()\n",
    "\n",
    "# Calculate correlation with the target variable\n",
    "correlation_polarity = temp_data[['sentiment_polarity', 'state_response_numeric']].corr().iloc[0, 1]\n",
    "correlation_subjectivity = temp_data[['sentiment_subjectivity', 'state_response_numeric']].corr().iloc[0, 1]\n",
    "\n",
    "print(f'Correlation between sentiment polarity and state response: {correlation_polarity}')\n",
    "print(f'Correlation between sentiment subjectivity and state response: {correlation_subjectivity}')\n"
   ]
  },
  {
   "cell_type": "markdown",
   "metadata": {
    "id": "rcjR3oc9uJLX"
   },
   "source": [
    "Correlation between Sentiment Polarity and State Response: 0.111\n",
    "\n",
    "* A weak positive correlation, indicating that sentiment polarity (positive or negative sentiment) has a minimal relationship with the state response.\n",
    "\n",
    "Correlation between Sentiment Subjectivity and State Response: 0.013\n",
    "\n",
    "* Very weak correlation, suggesting that sentiment subjectivity (level of opinion versus fact) has almost no relationship with the state response."
   ]
  },
  {
   "cell_type": "markdown",
   "metadata": {
    "id": "UYF6oKDYuJLY"
   },
   "source": [
    "### Handle Multicollinearity\n",
    "* We will handle multicollinearity by dropping highly correlated features."
   ]
  },
  {
   "cell_type": "code",
   "execution_count": 20,
   "metadata": {
    "ExecuteTime": {
     "end_time": "2024-08-06T08:12:13.791628Z",
     "start_time": "2024-08-06T08:11:41.370113Z"
    },
    "colab": {
     "base_uri": "https://localhost:8080/"
    },
    "id": "ohXh9RequJLY",
    "outputId": "4d3d75d5-34ce-4293-f1da-f7016ef0f1c6"
   },
   "outputs": [
    {
     "name": "stdout",
     "output_type": "stream",
     "text": [
      "Dropped features due to high correlation: ['demand_process', 'demand_tax_policy', 'tfidf_sources_149', 'tfidf_sources_188', 'tfidf_sources_190', 'tfidf_sources_227', 'tfidf_sources_284', 'tfidf_sources_306', 'tfidf_sources_329', 'tfidf_sources_366', 'tfidf_sources_367', 'tfidf_sources_385', 'tfidf_sources_399', 'tfidf_sources_424', 'tfidf_sources_482', 'tfidf_sources_494']\n"
     ]
    }
   ],
   "source": [
    "# Select only numeric columns for correlation matrix\n",
    "numeric_data = data.select_dtypes(include=[np.number])\n",
    "\n",
    "# Calculate correlation matrix\n",
    "correlation_matrix = numeric_data.corr().abs()\n",
    "\n",
    "# Select upper triangle of correlation matrix\n",
    "upper = correlation_matrix.where(np.triu(np.ones(correlation_matrix.shape), k=1).astype(bool))\n",
    "\n",
    "# Find features with correlation greater than 0.9\n",
    "to_drop = [column for column in upper.columns if any(upper[column] > 0.9)]\n",
    "\n",
    "# Drop highly correlated features\n",
    "data.drop(columns=to_drop, inplace=True)\n",
    "\n",
    "# Print dropped features\n",
    "print(f'Dropped features due to high correlation: {to_drop}')\n"
   ]
  },
  {
   "cell_type": "markdown",
   "metadata": {
    "id": "xijawwNLuJLZ"
   },
   "source": [
    "## Modeling."
   ]
  },
  {
   "cell_type": "code",
   "execution_count": 21,
   "metadata": {
    "ExecuteTime": {
     "end_time": "2024-08-06T08:12:16.390704Z",
     "start_time": "2024-08-06T08:12:13.792629Z"
    },
    "id": "mKVncMRMuJLZ"
   },
   "outputs": [],
   "source": [
    "# Defining Target Variable.\n",
    "X = data.drop(columns=['state_response'])\n",
    "y = data['state_response']\n",
    "\n",
    "# Apply SMOTE\n",
    "smote = SMOTE(random_state=42)\n",
    "X_res, y_res = smote.fit_resample(X, y)\n",
    "\n",
    "# Scale the data\n",
    "scaler = StandardScaler()\n",
    "X_res = scaler.fit_transform(X_res)\n",
    "\n",
    "# Split the data\n",
    "X_train, X_test, y_train, y_test = train_test_split(X_res, y_res, test_size=0.2, random_state=42)\n"
   ]
  },
  {
   "cell_type": "markdown",
   "metadata": {
    "id": "4QdD7SiYuJLa"
   },
   "source": [
    "* We did a randomized search for best parameters and used them in fitting the models below."
   ]
  },
  {
   "cell_type": "markdown",
   "metadata": {
    "ExecuteTime": {
     "end_time": "2024-08-03T00:57:01.427222Z",
     "start_time": "2024-08-03T00:57:01.412451Z"
    },
    "id": "Lzq9_k3GuJLa"
   },
   "source": [
    "### Random Forest."
   ]
  },
  {
   "cell_type": "code",
   "execution_count": 22,
   "metadata": {
    "ExecuteTime": {
     "end_time": "2024-08-06T08:12:41.790623Z",
     "start_time": "2024-08-06T08:12:16.393704Z"
    },
    "colab": {
     "base_uri": "https://localhost:8080/"
    },
    "id": "pDffjVmZuJLa",
    "outputId": "8b929b04-510f-488a-a85d-d1327e5c3ba3"
   },
   "outputs": [
    {
     "name": "stdout",
     "output_type": "stream",
     "text": [
      "Random Forest Training Accuracy: 0.9919633148962322\n",
      "Random Forest Test Accuracy: 0.8863679334467763\n",
      "Random Forest Classification Report:\n",
      "                       precision    recall  f1-score   support\n",
      "\n",
      "     Control Measures       0.87      0.84      0.85      1810\n",
      "  Forceful Repression       0.93      0.91      0.92      1763\n",
      "Passive or Concessive       0.86      0.91      0.89      1716\n",
      "\n",
      "             accuracy                           0.89      5289\n",
      "            macro avg       0.89      0.89      0.89      5289\n",
      "         weighted avg       0.89      0.89      0.89      5289\n",
      "\n"
     ]
    }
   ],
   "source": [
    "# Create and train the Random Forest model with the best parameters\n",
    "rf_model = RandomForestClassifier(\n",
    "    n_estimators=200,\n",
    "    min_samples_split=2,\n",
    "    min_samples_leaf=1,\n",
    "    max_features='sqrt',\n",
    "    max_depth=30,\n",
    "    random_state=42\n",
    ")\n",
    "rf_model.fit(X_train, y_train)\n",
    "\n",
    "# Predict on the test set\n",
    "y_test_pred_rf = rf_model.predict(X_test)\n",
    "# Predict on the training set\n",
    "y_train_pred_rf = rf_model.predict(X_train)\n",
    "\n",
    "# Evaluate the model\n",
    "test_accuracy_rf = accuracy_score(y_test, y_test_pred_rf)\n",
    "train_accuracy_rf = accuracy_score(y_train, y_train_pred_rf)\n",
    "classification_rep_rf = classification_report(y_test, y_test_pred_rf)\n",
    "\n",
    "print(f\"Random Forest Training Accuracy: {train_accuracy_rf}\")\n",
    "print(f\"Random Forest Test Accuracy: {test_accuracy_rf}\")\n",
    "print(\"Random Forest Classification Report:\")\n",
    "print(classification_rep_rf)\n"
   ]
  },
  {
   "cell_type": "markdown",
   "metadata": {
    "id": "RTyGuWmduJLb"
   },
   "source": [
    "### XGBoost."
   ]
  },
  {
   "cell_type": "code",
   "execution_count": 23,
   "metadata": {
    "ExecuteTime": {
     "end_time": "2024-08-06T08:14:56.730931Z",
     "start_time": "2024-08-06T08:12:41.793587Z"
    },
    "colab": {
     "base_uri": "https://localhost:8080/"
    },
    "id": "nPVxcb4OuJLc",
    "outputId": "c05fc32f-3991-41cc-f2e7-cb212a054aff"
   },
   "outputs": [
    {
     "name": "stdout",
     "output_type": "stream",
     "text": [
      "XGBoost Training Accuracy: 0.9745189807592304\n",
      "XGBoost Test Accuracy: 0.8863679334467763\n",
      "\n",
      "XGBoost Classification Report:\n",
      "                        precision    recall  f1-score   support\n",
      "\n",
      "     Control Measures       0.86      0.84      0.85      1810\n",
      "  Forceful Repression       0.92      0.90      0.91      1763\n",
      "Passive or Concessive       0.88      0.92      0.90      1716\n",
      "\n",
      "             accuracy                           0.89      5289\n",
      "            macro avg       0.89      0.89      0.89      5289\n",
      "         weighted avg       0.89      0.89      0.89      5289\n",
      "\n"
     ]
    }
   ],
   "source": [
    "# Best parameters for XGBoost\n",
    "xgb_params = {\n",
    "    'subsample': 0.9, 'reg_lambda': 2, 'reg_alpha': 0,\n",
    "    'n_estimators': 200, 'max_depth': 7, 'learning_rate': 0.1,\n",
    "    'colsample_bytree': 0.7\n",
    "}\n",
    "\n",
    "# Instantiate the LabelEncoder\n",
    "le = LabelEncoder()\n",
    "\n",
    "# Fit and transform the labels\n",
    "y_train_encoded = le.fit_transform(y_train)\n",
    "y_test_encoded = le.transform(y_test)\n",
    "\n",
    "# Initialize and train XGBoost Classifier\n",
    "xgb_clf = XGBClassifier(**xgb_params, random_state=42)\n",
    "xgb_clf.fit(X_train, y_train_encoded)\n",
    "\n",
    "# Predict and evaluate XGBoost\n",
    "y_train_pred_xgb = xgb_clf.predict(X_train)\n",
    "y_test_pred_xgb = xgb_clf.predict(X_test)\n",
    "\n",
    "train_accuracy_xgb = accuracy_score(y_train_encoded, y_train_pred_xgb)\n",
    "test_accuracy_xgb = accuracy_score(y_test_encoded, y_test_pred_xgb)\n",
    "classification_rep_xgb = classification_report(y_test_encoded, y_test_pred_xgb, target_names=le.classes_)\n",
    "\n",
    "print(\"XGBoost Training Accuracy:\", train_accuracy_xgb)\n",
    "print(\"XGBoost Test Accuracy:\", test_accuracy_xgb)\n",
    "print(\"\\nXGBoost Classification Report:\\n\", classification_rep_xgb)"
   ]
  },
  {
   "cell_type": "markdown",
   "metadata": {
    "id": "YTakDSyHuJLd"
   },
   "source": [
    "#### Gradient Boosting."
   ]
  },
  {
   "cell_type": "code",
   "execution_count": 24,
   "metadata": {
    "ExecuteTime": {
     "end_time": "2024-08-06T08:15:22.121854Z",
     "start_time": "2024-08-06T08:14:56.736442Z"
    },
    "colab": {
     "base_uri": "https://localhost:8080/"
    },
    "id": "QSexhbLYuJLd",
    "outputId": "9b24cdb7-6fbc-436f-e4a8-4e7510739ea6"
   },
   "outputs": [
    {
     "name": "stdout",
     "output_type": "stream",
     "text": [
      "Gradient Boosting Training Accuracy: 0.9904505271119936\n",
      "Gradient Boosting Test Accuracy: 0.8710531291359426\n",
      "\n",
      "Gradient Boosting Classification Report:\n",
      "                        precision    recall  f1-score   support\n",
      "\n",
      "     Control Measures       0.84      0.81      0.83      1810\n",
      "  Forceful Repression       0.91      0.89      0.90      1763\n",
      "Passive or Concessive       0.86      0.91      0.89      1716\n",
      "\n",
      "             accuracy                           0.87      5289\n",
      "            macro avg       0.87      0.87      0.87      5289\n",
      "         weighted avg       0.87      0.87      0.87      5289\n",
      "\n"
     ]
    }
   ],
   "source": [
    "# Best parameters for Gradient Boosting\n",
    "gb_params = {\n",
    "    'subsample': 0.8, 'n_estimators': 300, 'max_features': 'log2',\n",
    "    'max_depth': 6, 'learning_rate': 0.2\n",
    "}\n",
    "\n",
    "# Initialize and train Gradient Boosting Classifier\n",
    "gb_clf = GradientBoostingClassifier(**gb_params, random_state=42)\n",
    "gb_clf.fit(X_train, y_train)\n",
    "\n",
    "# Predict and evaluate Gradient Boosting\n",
    "y_train_pred_gb = gb_clf.predict(X_train)\n",
    "y_test_pred_gb = gb_clf.predict(X_test)\n",
    "\n",
    "print(\"Gradient Boosting Training Accuracy:\", accuracy_score(y_train, y_train_pred_gb))\n",
    "print(\"Gradient Boosting Test Accuracy:\", accuracy_score(y_test, y_test_pred_gb))\n",
    "print(\"\\nGradient Boosting Classification Report:\\n\", classification_report(y_test, y_test_pred_gb))\n"
   ]
  },
  {
   "cell_type": "markdown",
   "metadata": {
    "id": "jTirek51uJLd"
   },
   "source": [
    "### SVC."
   ]
  },
  {
   "cell_type": "code",
   "execution_count": 25,
   "metadata": {
    "ExecuteTime": {
     "end_time": "2024-08-06T08:25:27.068176Z",
     "start_time": "2024-08-06T08:15:22.125361Z"
    },
    "colab": {
     "base_uri": "https://localhost:8080/"
    },
    "id": "kAmr_jvTuJLh",
    "outputId": "0eb73558-6732-46b1-9677-cf365765054e"
   },
   "outputs": [
    {
     "name": "stdout",
     "output_type": "stream",
     "text": [
      "SVC Training Accuracy: 0.9822720181534534\n",
      "SVC Test Accuracy: 0.9139723955379089\n",
      "SVC Classification Report:\n",
      "                       precision    recall  f1-score   support\n",
      "\n",
      "     Control Measures       0.93      0.84      0.88      1810\n",
      "  Forceful Repression       0.95      0.97      0.96      1763\n",
      "Passive or Concessive       0.87      0.93      0.90      1716\n",
      "\n",
      "             accuracy                           0.91      5289\n",
      "            macro avg       0.91      0.91      0.91      5289\n",
      "         weighted avg       0.92      0.91      0.91      5289\n",
      "\n"
     ]
    }
   ],
   "source": [
    "# Create and train the SVC model\n",
    "svc_model = SVC(random_state=42)\n",
    "svc_model.fit(X_train, y_train)\n",
    "\n",
    "# Predict on the test set\n",
    "y_test_pred_svc = svc_model.predict(X_test)\n",
    "# Predict on the training set\n",
    "y_train_pred_svc = svc_model.predict(X_train)\n",
    "\n",
    "# Evaluate the model\n",
    "test_accuracy_svc = accuracy_score(y_test, y_test_pred_svc)\n",
    "train_accuracy_svc = accuracy_score(y_train, y_train_pred_svc)\n",
    "classification_rep_svc = classification_report(y_test, y_test_pred_svc)\n",
    "\n",
    "print(f\"SVC Training Accuracy: {train_accuracy_svc}\")\n",
    "print(f\"SVC Test Accuracy: {test_accuracy_svc}\")\n",
    "print(\"SVC Classification Report:\")\n",
    "print(classification_rep_svc)\n"
   ]
  },
  {
   "cell_type": "markdown",
   "metadata": {
    "id": "4iWFg6xXuJLh"
   },
   "source": [
    "* We proceeded with dimensionality reduction as all models performed with high accuracies in both training and test, with overfitting being consistent."
   ]
  },
  {
   "cell_type": "markdown",
   "metadata": {
    "id": "xQO-MQD9uJLi"
   },
   "source": [
    "## Dimensionality Reduction."
   ]
  },
  {
   "cell_type": "markdown",
   "metadata": {
    "id": "TIHkj-JEuJLi"
   },
   "source": [
    "### Linear Discriminant Analysis (LDA)\n",
    "* LDA helps in reducing the dimensionality of the data, which can lead to improved performance and reduced overfitting.\n",
    "* LDA is specifically designed for classification problems."
   ]
  },
  {
   "cell_type": "markdown",
   "metadata": {
    "id": "Kgrh_Fv5uJLi"
   },
   "source": [
    "#### Gradient Boosting (LDA)."
   ]
  },
  {
   "cell_type": "code",
   "execution_count": 26,
   "metadata": {
    "ExecuteTime": {
     "end_time": "2024-08-06T08:25:51.084063Z",
     "start_time": "2024-08-06T08:25:27.069176Z"
    },
    "colab": {
     "base_uri": "https://localhost:8080/"
    },
    "id": "WRYlLyM3uJLi",
    "outputId": "d7921563-b489-4268-f01f-2c4eb48b212c"
   },
   "outputs": [
    {
     "name": "stdout",
     "output_type": "stream",
     "text": [
      "Best number of LDA components: 2\n",
      "Gradient Boosting Training Accuracy: 0.9742353330496856\n",
      "Gradient Boosting Test Accuracy: 0.7630932123274721\n",
      "\n",
      "Gradient Boosting Classification Report:\n",
      "                        precision    recall  f1-score   support\n",
      "\n",
      "     Control Measures       0.71      0.67      0.69      1810\n",
      "  Forceful Repression       0.78      0.81      0.80      1763\n",
      "Passive or Concessive       0.80      0.81      0.80      1716\n",
      "\n",
      "             accuracy                           0.76      5289\n",
      "            macro avg       0.76      0.76      0.76      5289\n",
      "         weighted avg       0.76      0.76      0.76      5289\n",
      "\n"
     ]
    }
   ],
   "source": [
    "# Fit the Gradient Boosting model with the best LDA components\n",
    "lda = LinearDiscriminantAnalysis(n_components=2)\n",
    "X_train_lda = lda.fit_transform(X_train, y_train)\n",
    "X_test_lda = lda.transform(X_test)\n",
    "\n",
    "gb_clf = GradientBoostingClassifier(\n",
    "    subsample=0.8, n_estimators=300, max_features='log2',\n",
    "    max_depth=6, learning_rate=0.2, random_state=42\n",
    ")\n",
    "gb_clf.fit(X_train_lda, y_train)\n",
    "\n",
    "# Predict and evaluate Gradient Boosting\n",
    "y_train_pred_gb = gb_clf.predict(X_train_lda)\n",
    "y_test_pred_gb = gb_clf.predict(X_test_lda)\n",
    "\n",
    "print(f\"Best number of LDA components: 2\")\n",
    "print(\"Gradient Boosting Training Accuracy:\", accuracy_score(y_train, y_train_pred_gb))\n",
    "print(\"Gradient Boosting Test Accuracy:\", accuracy_score(y_test, y_test_pred_gb))\n",
    "print(\"\\nGradient Boosting Classification Report:\\n\", classification_report(y_test, y_test_pred_gb))\n"
   ]
  },
  {
   "cell_type": "markdown",
   "metadata": {
    "id": "wPeb9VSbuJLj"
   },
   "source": [
    "#### Random Forest (LDA)."
   ]
  },
  {
   "cell_type": "code",
   "execution_count": 27,
   "metadata": {
    "ExecuteTime": {
     "end_time": "2024-08-06T08:26:10.120271Z",
     "start_time": "2024-08-06T08:25:51.085554Z"
    },
    "colab": {
     "base_uri": "https://localhost:8080/"
    },
    "id": "RY1Y1Jy7uJLj",
    "outputId": "00bb8696-4d35-46f1-b898-e5e8006b2c34"
   },
   "outputs": [
    {
     "name": "stdout",
     "output_type": "stream",
     "text": [
      "Random Forest Training Accuracy: 1.0\n",
      "Random Forest Test Accuracy: 0.7899413877859709\n",
      "Random Forest Classification Report:\n",
      "                       precision    recall  f1-score   support\n",
      "\n",
      "     Control Measures       0.74      0.70      0.72      1810\n",
      "  Forceful Repression       0.81      0.84      0.82      1763\n",
      "Passive or Concessive       0.82      0.83      0.83      1716\n",
      "\n",
      "             accuracy                           0.79      5289\n",
      "            macro avg       0.79      0.79      0.79      5289\n",
      "         weighted avg       0.79      0.79      0.79      5289\n",
      "\n"
     ]
    }
   ],
   "source": [
    "# Defining Target Variable\n",
    "X = data.drop(columns=['state_response'])\n",
    "y = data['state_response']\n",
    "\n",
    "# Apply SMOTE\n",
    "smote = SMOTE(random_state=42)\n",
    "X_res, y_res = smote.fit_resample(X, y)\n",
    "\n",
    "# Scale the data\n",
    "scaler = StandardScaler()\n",
    "X_res = scaler.fit_transform(X_res)\n",
    "\n",
    "# Apply LDA for dimensionality reduction\n",
    "lda = LinearDiscriminantAnalysis(n_components=2)\n",
    "X_res_lda = lda.fit_transform(X_res, y_res)\n",
    "\n",
    "# Split the data\n",
    "X_train, X_test, y_train, y_test = train_test_split(X_res_lda, y_res, test_size=0.2, random_state=42)\n",
    "\n",
    "# Create and train the Random Forest model with the best parameters\n",
    "rf_model = RandomForestClassifier(\n",
    "    n_estimators=200,\n",
    "    min_samples_split=2,\n",
    "    min_samples_leaf=1,\n",
    "    max_features='sqrt',\n",
    "    max_depth=30,\n",
    "    random_state=42\n",
    ")\n",
    "rf_model.fit(X_train, y_train)\n",
    "\n",
    "# Predict on the test set\n",
    "y_test_pred_rf = rf_model.predict(X_test)\n",
    "# Predict on the training set\n",
    "y_train_pred_rf = rf_model.predict(X_train)\n",
    "\n",
    "# Evaluate the model\n",
    "test_accuracy_rf = accuracy_score(y_test, y_test_pred_rf)\n",
    "train_accuracy_rf = accuracy_score(y_train, y_train_pred_rf)\n",
    "classification_rep_rf = classification_report(y_test, y_test_pred_rf)\n",
    "\n",
    "print(f\"Random Forest Training Accuracy: {train_accuracy_rf}\")\n",
    "print(f\"Random Forest Test Accuracy: {test_accuracy_rf}\")\n",
    "print(\"Random Forest Classification Report:\")\n",
    "print(classification_rep_rf)\n"
   ]
  },
  {
   "cell_type": "markdown",
   "metadata": {
    "id": "_w1GQK4JuJLk"
   },
   "source": [
    "#### XGBoost (LDA)."
   ]
  },
  {
   "cell_type": "code",
   "execution_count": 28,
   "metadata": {
    "ExecuteTime": {
     "end_time": "2024-08-06T08:26:15.563801Z",
     "start_time": "2024-08-06T08:26:10.122190Z"
    },
    "colab": {
     "base_uri": "https://localhost:8080/"
    },
    "id": "WTLXBGFeuJLk",
    "outputId": "80b64ffb-1d07-4fa7-b8f9-b8f3838969a8"
   },
   "outputs": [
    {
     "name": "stdout",
     "output_type": "stream",
     "text": [
      "Best number of LDA components: 2\n",
      "XGBoost Training Accuracy: 0.8535432326383965\n",
      "XGBoost Test Accuracy: 0.8084704102854982\n",
      "\n",
      "XGBoost Classification Report:\n",
      "                        precision    recall  f1-score   support\n",
      "\n",
      "     Control Measures       0.76      0.73      0.74      1810\n",
      "  Forceful Repression       0.82      0.85      0.84      1763\n",
      "Passive or Concessive       0.84      0.85      0.85      1716\n",
      "\n",
      "             accuracy                           0.81      5289\n",
      "            macro avg       0.81      0.81      0.81      5289\n",
      "         weighted avg       0.81      0.81      0.81      5289\n",
      "\n"
     ]
    }
   ],
   "source": [
    "# Instantiate the LabelEncoder\n",
    "le = LabelEncoder()\n",
    "\n",
    "# Fit and transform the labels\n",
    "y_train_encoded = le.fit_transform(y_train)\n",
    "y_test_encoded = le.transform(y_test)\n",
    "\n",
    "# Fit the XGBoost model with the best LDA components\n",
    "lda = LinearDiscriminantAnalysis(n_components=2)\n",
    "X_train_lda = lda.fit_transform(X_train, y_train_encoded)\n",
    "X_test_lda = lda.transform(X_test)\n",
    "\n",
    "xgb_clf = XGBClassifier(\n",
    "    subsample=0.9, reg_lambda=2, reg_alpha=0,\n",
    "    n_estimators=200, max_depth=7, learning_rate=0.1,\n",
    "    colsample_bytree=0.7, random_state=42\n",
    ")\n",
    "xgb_clf.fit(X_train_lda, y_train_encoded)\n",
    "\n",
    "# Predict and evaluate XGBoost\n",
    "y_train_pred_xgb = xgb_clf.predict(X_train_lda)\n",
    "y_test_pred_xgb = xgb_clf.predict(X_test_lda)\n",
    "\n",
    "print(f\"Best number of LDA components: 2\")\n",
    "print(\"XGBoost Training Accuracy:\", accuracy_score(y_train_encoded, y_train_pred_xgb))\n",
    "print(\"XGBoost Test Accuracy:\", accuracy_score(y_test_encoded, y_test_pred_xgb))\n",
    "print(\"\\nXGBoost Classification Report:\\n\", classification_report(y_test_encoded, y_test_pred_xgb, target_names=le.classes_))\n"
   ]
  },
  {
   "cell_type": "markdown",
   "metadata": {
    "id": "9kLGM1iZuJLk"
   },
   "source": [
    "XGBoost Model Performance\n",
    "\n",
    "* **Training Accuracy:** 83.06%\n",
    "* **Test Accuracy:** 81.30%\n",
    "* **Classification Report Highlights:**\n",
    "\n",
    "  - **Control Measures:** Precision: 76%, Recall: 74%, F1-Score: 75%\n",
    "  - **Forceful Repression:** Precision: 83%, Recall: 85%, F1-Score: 84%\n",
    "  - **Passive or Concessive:** Precision: 85%, Recall: 86%, F1-Score: 85%\n",
    "\n",
    "## Summary\n",
    "\n",
    "The model shows strong performance with high accuracy and balanced precision and recall across classes. Test accuracy of 81.30% indicates robust generalization to unseen data.\n",
    "\n",
    "## Conclusion\n",
    "\n",
    "The model is performing well, with high accuracy and good balance between precision and recall for all classes. The use of 2 LDA components seems to be effective in enhancing model performance.\n"
   ]
  },
  {
   "cell_type": "markdown",
   "metadata": {
    "id": "m-xIMi5QuJLk"
   },
   "source": [
    "**XGB (ROC, PR AUC Curves)**"
   ]
  },
  {
   "cell_type": "code",
   "execution_count": 29,
   "metadata": {
    "ExecuteTime": {
     "end_time": "2024-08-06T08:26:16.503299Z",
     "start_time": "2024-08-06T08:26:15.566311Z"
    },
    "colab": {
     "base_uri": "https://localhost:8080/",
     "height": 1000
    },
    "id": "XSK4vOsYuJLl",
    "outputId": "a65e2a61-65e4-461b-b670-87abe28ff610"
   },
   "outputs": [
    {
     "data": {
      "image/png": "[encoded data removed]",
      "text/plain": [
       "<Figure size 864x864 with 2 Axes>"
      ]
     },
     "metadata": {
      "needs_background": "light"
     },
     "output_type": "display_data"
    }
   ],
   "source": [
    "# Binarize the output for multi-class ROC\n",
    "y_test_bin = label_binarize(y_test, classes=np.unique(y_test))\n",
    "\n",
    "# Plot ROC and Precision-Recall curves for each class\n",
    "n_classes = y_test_bin.shape[1]\n",
    "\n",
    "plt.figure(figsize=(12, 12))\n",
    "\n",
    "# Plot ROC curve for each class\n",
    "plt.subplot(2, 1, 1)\n",
    "for i in range(n_classes):\n",
    "    fpr_test, tpr_test, _ = roc_curve(y_test_bin[:, i], xgb_clf.predict_proba(X_test_lda)[:, i])\n",
    "    roc_auc_test = roc_auc_score(y_test_bin[:, i], xgb_clf.predict_proba(X_test_lda)[:, i])\n",
    "    plt.plot(fpr_test, tpr_test, lw=2, label=f'Test ROC curve of class {i} (area = {roc_auc_test:.2f})')\n",
    "\n",
    "plt.plot([0, 1], [0, 1], color='navy', lw=2, linestyle='--')\n",
    "plt.xlim([0.0, 1.0])\n",
    "plt.ylim([0.0, 1.05])\n",
    "plt.xlabel('False Positive Rate')\n",
    "plt.ylabel('True Positive Rate')\n",
    "plt.title('ROC Curves for Multi-Class Classification (XGB Test Set)')\n",
    "plt.legend(loc=\"lower right\")\n",
    "\n",
    "# Plot Precision-Recall curve for each class\n",
    "plt.subplot(2, 1, 2)\n",
    "for i in range(n_classes):\n",
    "    precision, recall, _ = precision_recall_curve(y_test_bin[:, i], xgb_clf.predict_proba(X_test_lda)[:, i])\n",
    "    pr_auc = auc(recall, precision)\n",
    "    plt.plot(recall, precision, lw=2, label=f'Test PR curve of class {i} (area = {pr_auc:.2f})')\n",
    "\n",
    "plt.xlabel('Recall')\n",
    "plt.ylabel('Precision')\n",
    "plt.title('Precision-Recall Curves for Multi-Class Classification (XGB Test Set)')\n",
    "plt.legend(loc=\"lower left\")\n",
    "\n",
    "plt.tight_layout()\n",
    "plt.show()\n"
   ]
  },
  {
   "cell_type": "markdown",
   "metadata": {
    "id": "68MuJDiPuJLl"
   },
   "source": [
    "**XGBoost Confusion Matrix**"
   ]
  },
  {
   "cell_type": "code",
   "execution_count": 30,
   "metadata": {
    "ExecuteTime": {
     "end_time": "2024-08-06T08:26:16.720635Z",
     "start_time": "2024-08-06T08:26:16.505724Z"
    },
    "colab": {
     "base_uri": "https://localhost:8080/",
     "height": 718
    },
    "id": "RcG4hP6JuJLl",
    "outputId": "0ce0ee02-7d05-4a61-8bb2-9b62b6145d90"
   },
   "outputs": [
    {
     "data": {
      "image/png": "[encoded data removed]",
      "text/plain": [
       "<Figure size 720x576 with 2 Axes>"
      ]
     },
     "metadata": {
      "needs_background": "light"
     },
     "output_type": "display_data"
    }
   ],
   "source": [
    "# Compute and plot confusion matrix\n",
    "conf_matrix = confusion_matrix(y_test_encoded, y_test_pred_xgb)\n",
    "fig, ax = plt.subplots(figsize=(10, 8))  # Increase the size here\n",
    "disp = ConfusionMatrixDisplay(confusion_matrix=conf_matrix, display_labels=le.classes_)\n",
    "disp.plot(ax=ax, cmap=plt.cm.Blues)\n",
    "plt.title('Confusion Matrix for XGBoost Model')\n",
    "plt.show()"
   ]
  },
  {
   "cell_type": "markdown",
   "metadata": {
    "id": "oIwrrNZquJLm"
   },
   "source": [
    "Summary\n",
    "\n",
    "The XGBoost model shows strong discriminative power with high AUC values across all classes.\n",
    "\n",
    "- **Control Measures:** AUC = 0.90\n",
    "- **Forceful Repression:** AUC = 0.96\n",
    "- **Passive or Concessive:** AUC = 0.96\n",
    "\n",
    "Explanation of Visualizations\n",
    "\n",
    "ROC and PR Curves\n",
    "\n",
    "1. **ROC Curves (Top):**\n",
    "   - The ROC curves illustrate the trade-off between the true positive rate (TPR) and false positive rate (FPR) for each class.\n",
    "   - The AUC (Area Under the Curve) values reflect the model's discriminative power.\n",
    "     - **Control Measures** (Class 0): AUC = 0.90 (Blue Line)\n",
    "     - **Forceful Repression** (Class 1): AUC = 0.96 (Orange Line)\n",
    "     - **Passive or Concessive** (Class 2): AUC = 0.96 (Green Line)\n",
    "   - Higher AUC values indicate better performance of the model in distinguishing between classes.\n",
    "\n",
    "2. **PR Curves (Bottom):**\n",
    "   - The PR (Precision-Recall) curves show the precision against recall for each class, useful for evaluating models on imbalanced datasets.\n",
    "   - High AUC values in PR curves indicate high precision and recall, meaning the model can identify relevant instances effectively.\n",
    "     - **Control Measures** (Class 0): AUC = 0.83 (Blue Line)\n",
    "     - **Forceful Repression** (Class 1): AUC = 0.91 (Orange Line)\n",
    "     - **Passive or Concessive** (Class 2): AUC = 0.92 (Green Line)\n",
    "\n",
    "Confusion Matrix\n",
    "\n",
    "The confusion matrix provides a detailed breakdown of the model's classification performance by showing the actual versus predicted labels.\n",
    "\n",
    "- **True Positives (Diagonal Elements):** Correctly predicted instances.\n",
    "  - **Control Measures:** 1335\n",
    "  - **Forceful Repression:** 1494\n",
    "  - **Passive or Concessive:** 1471\n",
    "\n",
    "- **False Positives and False Negatives (Off-Diagonal Elements):** Instances where the model misclassified the labels.\n",
    "  - Misclassified as **Control Measures:** 244 (from Forceful Repression), 231 (from Passive or Concessive)\n",
    "  - Misclassified as **Forceful Repression:** 239 (from Control Measures), 30 (from Passive or Concessive)\n",
    "  - Misclassified as **Passive or Concessive:** 182 (from Control Measures), 63 (from Forceful Repression)\n",
    "\n",
    "Conclusion\n",
    "\n",
    "The XGBoost model demonstrates robust classification performance with high accuracy and an excellent ability to distinguish between classes. The high AUC values across ROC and PR curves indicate the model's strong discriminative power, and the confusion matrix reflects a high number of correct predictions with relatively few misclassifications. This analysis underscores the model's effectiveness in classifying instances across the given categories."
   ]
  },
  {
   "cell_type": "markdown",
   "metadata": {
    "id": "MhwGhIQNuJLm"
   },
   "source": [
    "#### SVC (LDA)."
   ]
  },
  {
   "cell_type": "code",
   "execution_count": 31,
   "metadata": {
    "ExecuteTime": {
     "end_time": "2024-08-06T08:27:22.162093Z",
     "start_time": "2024-08-06T08:26:16.722637Z"
    },
    "colab": {
     "base_uri": "https://localhost:8080/"
    },
    "id": "zScj0ZnLuJLn",
    "outputId": "d7253199-1133-417d-de35-8393728c8117"
   },
   "outputs": [
    {
     "name": "stdout",
     "output_type": "stream",
     "text": [
      "SVC Training Accuracy: 0.8246111662648324\n",
      "SVC Test Accuracy: 0.8175458498771034\n",
      "SVC Classification Report:\n",
      "                       precision    recall  f1-score   support\n",
      "\n",
      "     Control Measures       0.77      0.73      0.75      1810\n",
      "  Forceful Repression       0.83      0.85      0.84      1763\n",
      "Passive or Concessive       0.85      0.87      0.86      1716\n",
      "\n",
      "             accuracy                           0.82      5289\n",
      "            macro avg       0.82      0.82      0.82      5289\n",
      "         weighted avg       0.82      0.82      0.82      5289\n",
      "\n"
     ]
    }
   ],
   "source": [
    "# Defining Target Variable\n",
    "X = data.drop(columns=['state_response'])\n",
    "y = data['state_response']\n",
    "\n",
    "# Apply SMote\n",
    "smote = SMOTE(random_state=42)\n",
    "X_res, y_res = smote.fit_resample(X, y)\n",
    "\n",
    "# Scale the data\n",
    "scaler = StandardScaler()\n",
    "X_res = scaler.fit_transform(X_res)\n",
    "\n",
    "# Apply LDA for dimensionality reduction\n",
    "lda = LinearDiscriminantAnalysis(n_components=2)\n",
    "X_res_lda = lda.fit_transform(X_res, y_res)\n",
    "\n",
    "# Split the data\n",
    "X_train, X_test, y_train, y_test = train_test_split(X_res_lda, y_res, test_size=0.2, random_state=42)\n",
    "\n",
    "# Create and train the SVC model with probability enabled\n",
    "svc_model = SVC(probability=True,C=1, gamma='scale', kernel='rbf', random_state=42)\n",
    "svc_model.fit(X_train, y_train)\n",
    "\n",
    "# Predict on the test set\n",
    "y_test_pred_svc = svc_model.predict(X_test)\n",
    "# Predict on the training set\n",
    "y_train_pred_svc = svc_model.predict(X_train)\n",
    "\n",
    "# Evaluate the model\n",
    "test_accuracy_svc = accuracy_score(y_test, y_test_pred_svc)\n",
    "train_accuracy_svc = accuracy_score(y_train, y_train_pred_svc)\n",
    "classification_rep_svc = classification_report(y_test, y_test_pred_svc)\n",
    "\n",
    "print(f\"SVC Training Accuracy: {train_accuracy_svc}\")\n",
    "print(f\"SVC Test Accuracy: {test_accuracy_svc}\")\n",
    "print(\"SVC Classification Report:\")\n",
    "print(classification_rep_svc)"
   ]
  },
  {
   "cell_type": "markdown",
   "metadata": {
    "id": "hMFFHyPNuJLp"
   },
   "source": [
    "SVC Model Performance\n",
    "\n",
    "* **Training Accuracy:** 82.46%\n",
    "* **Test Accuracy:** 81.75%\n",
    "* **Classification Report Highlights:**\n",
    "\n",
    "  - **Control Measures:** Precision: 77%, Recall: 73%, F1-Score: 75%\n",
    "  - **Forceful Repression:** Precision: 83%, Recall: 85%, F1-Score: 84%\n",
    "  - **Passive or Concessive:** Precision: 85%, Recall: 87%, F1-Score: 86%\n",
    "\n",
    "Summary\n",
    "\n",
    "The model demonstrates strong performance with high accuracy and well-balanced metrics across classes. Test accuracy of 81.75% reflects good generalization to new data.\n",
    "\n",
    "Conclusion\n",
    "\n",
    "The SVC model performs comparably to XGBoost, with similar accuracy and balanced class performance. It is a strong performer for this classification task.\n"
   ]
  },
  {
   "cell_type": "markdown",
   "metadata": {
    "id": "RMBcKXYOuJLp"
   },
   "source": [
    "**SVC (ROC, PR AUC Curves)**"
   ]
  },
  {
   "cell_type": "code",
   "execution_count": 32,
   "metadata": {
    "ExecuteTime": {
     "end_time": "2024-08-06T08:28:05.496462Z",
     "start_time": "2024-08-06T08:27:22.163937Z"
    },
    "colab": {
     "base_uri": "https://localhost:8080/",
     "height": 1000
    },
    "id": "2HxMxu42uJLq",
    "outputId": "355abce9-bec3-46a6-b905-42a2aedf6056"
   },
   "outputs": [
    {
     "data": {
      "image/png": "[encoded data removed]",
      "text/plain": [
       "<Figure size 864x864 with 2 Axes>"
      ]
     },
     "metadata": {
      "needs_background": "light"
     },
     "output_type": "display_data"
    }
   ],
   "source": [
    "# Binarize the output for multi-class ROC and Precision-Recall\n",
    "y_test_bin = label_binarize(y_test, classes=np.unique(y_test))\n",
    "\n",
    "# Plot ROC and Precision-Recall curves for each class\n",
    "n_classes = y_test_bin.shape[1]\n",
    "\n",
    "plt.figure(figsize=(12, 12))\n",
    "\n",
    "# Plot ROC curve for each class\n",
    "plt.subplot(2, 1, 1)\n",
    "for i in range(n_classes):\n",
    "    fpr_test, tpr_test, _ = roc_curve(y_test_bin[:, i], svc_model.predict_proba(X_test)[:, i])\n",
    "    roc_auc_test = roc_auc_score(y_test_bin[:, i], svc_model.predict_proba(X_test)[:, i])\n",
    "    plt.plot(fpr_test, tpr_test, lw=2, label=f'Test ROC curve of class {i} (area = {roc_auc_test:.2f})')\n",
    "\n",
    "plt.plot([0, 1], [0, 1], color='navy', lw=2, linestyle='--')\n",
    "plt.xlim([0.0, 1.0])\n",
    "plt.ylim([0.0, 1.05])\n",
    "plt.xlabel('False Positive Rate')\n",
    "plt.ylabel('True Positive Rate')\n",
    "plt.title('ROC Curves for Multi-Class Classification (SVC Test Set)')\n",
    "plt.legend(loc=\"lower right\")\n",
    "\n",
    "# Plot Precision-Recall curve for each class\n",
    "plt.subplot(2, 1, 2)\n",
    "for i in range(n_classes):\n",
    "    precision, recall, _ = precision_recall_curve(y_test_bin[:, i], svc_model.predict_proba(X_test)[:, i])\n",
    "    pr_auc = average_precision_score(y_test_bin[:, i], svc_model.predict_proba(X_test)[:, i])\n",
    "    plt.plot(recall, precision, lw=2, label=f'Test PR curve of class {i} (area = {pr_auc:.2f})')\n",
    "\n",
    "plt.plot([0, 1], [0, 0], color='navy', lw=2, linestyle='--')\n",
    "plt.xlim([0.0, 1.0])\n",
    "plt.ylim([0.0, 1.05])\n",
    "plt.xlabel('Recall')\n",
    "plt.ylabel('Precision')\n",
    "plt.title('Precision-Recall Curves for Multi-Class Classification (SVC Test Set)')\n",
    "plt.legend(loc=\"lower left\")\n",
    "\n",
    "plt.tight_layout()\n",
    "plt.show()\n"
   ]
  },
  {
   "cell_type": "code",
   "execution_count": 33,
   "metadata": {
    "ExecuteTime": {
     "end_time": "2024-08-06T08:28:05.714114Z",
     "start_time": "2024-08-06T08:28:05.498461Z"
    },
    "colab": {
     "base_uri": "https://localhost:8080/",
     "height": 718
    },
    "id": "LtTkoK0buJLq",
    "outputId": "bf170054-b081-4699-ee6b-1d4ddfb7396e"
   },
   "outputs": [
    {
     "data": {
      "image/png": "[encoded data removed]",
      "text/plain": [
       "<Figure size 720x576 with 2 Axes>"
      ]
     },
     "metadata": {
      "needs_background": "light"
     },
     "output_type": "display_data"
    }
   ],
   "source": [
    "# Compute and plot confusion matrix\n",
    "conf_matrix = confusion_matrix(y_test, y_test_pred_svc)\n",
    "fig, ax = plt.subplots(figsize=(10, 8))  # Increase the size here\n",
    "disp = ConfusionMatrixDisplay(confusion_matrix=conf_matrix, display_labels=np.unique(y_test))\n",
    "disp.plot(ax=ax, cmap=plt.cm.Blues)\n",
    "plt.title('Confusion Matrix for SVC Model')\n",
    "plt.show()\n"
   ]
  },
  {
   "cell_type": "markdown",
   "metadata": {
    "id": "PTxXBKR9uJLq"
   },
   "source": [
    "Summary\n",
    "\n",
    "The SVC model shows strong discriminative power with high AUC values across all classes.\n",
    "\n",
    "- **Control Measures:** AUC = 0.88\n",
    "- **Forceful Repression:** AUC = 0.95\n",
    "- **Passive or Concessive:** AUC = 0.95\n",
    "\n",
    "Explanation of Visualizations\n",
    "\n",
    "ROC and PR Curves\n",
    "\n",
    "1. **ROC Curves (Top):**\n",
    "   - The ROC curves illustrate the trade-off between the true positive rate (TPR) and false positive rate (FPR) for each class.\n",
    "   - The AUC (Area Under the Curve) values reflect the model's discriminative power.\n",
    "     - **Control Measures** (Class 0): AUC = 0.88 (Blue Line)\n",
    "     - **Forceful Repression** (Class 1): AUC = 0.95 (Orange Line)\n",
    "     - **Passive or Concessive** (Class 2): AUC = 0.95 (Green Line)\n",
    "   - Higher AUC values indicate better performance of the model in distinguishing between classes.\n",
    "\n",
    "2. **PR Curves (Bottom):**\n",
    "   - The PR (Precision-Recall) curves show the precision against recall for each class, useful for evaluating models on imbalanced datasets.\n",
    "   - High AUC values in PR curves indicate high precision and recall, meaning the model can identify relevant instances effectively.\n",
    "     - **Control Measures** (Class 0): AUC = 0.79 (Blue Line)\n",
    "     - **Forceful Repression** (Class 1): AUC = 0.88 (Orange Line)\n",
    "     - **Passive or Concessive** (Class 2): AUC = 0.89 (Green Line)\n",
    "\n",
    "Confusion Matrix\n",
    "\n",
    "The confusion matrix provides a detailed breakdown of the model's classification performance by showing the actual versus predicted labels.\n",
    "\n",
    "- **True Positives (Diagonal Elements):** Correctly predicted instances.\n",
    "  - **Control Measures:** 1329\n",
    "  - **Forceful Repression:** 1505\n",
    "  - **Passive or Concessive:** 1490\n",
    "\n",
    "- **False Positives and False Negatives (Off-Diagonal Elements):** Instances where the model misclassified the labels.\n",
    "  - Misclassified as **Control Measures:** 243 (from Forceful Repression), 238 (from Passive or Concessive)\n",
    "  - Misclassified as **Forceful Repression:** 226 (from Control Measures), 32 (from Passive or Concessive)\n",
    "  - Misclassified as **Passive or Concessive:** 160 (from Control Measures), 66 (from Forceful Repression)\n",
    "\n",
    "Conclusion\n",
    "\n",
    "The SVC model demonstrates robust classification performance with high accuracy and an excellent ability to distinguish between classes. The high AUC values across ROC and PR curves indicate the model's strong discriminative power, and the confusion matrix reflects a high number of correct predictions with relatively few misclassifications. This analysis underscores the model's effectiveness in classifying instances across the given categories.\n"
   ]
  },
  {
   "cell_type": "markdown",
   "metadata": {
    "id": "o67M8ZAwPC9e"
   },
   "source": [
    "**Best Performing Model.**\n",
    "- XGBoost is recommended as the better model based on the following points:\n",
    " - It has higher ROC AUC scores, indicating better performance in distinguishing between classes.\n",
    " - It has higher Precision-Recall AUC scores, which is crucial for handling imbalanced datasets.\n",
    " - Though the overall accuracy is slightly lower than SVC, the more robust ROC and PR curves suggest better generalization and reliability.\n",
    "\n",
    "Despite SVC having a marginally higher test accuracy, XGBoost's superior ROC and PR metrics make it the preferred choice for this classification task."
   ]
  },
  {
   "cell_type": "code",
   "execution_count": 39,
   "metadata": {
    "ExecuteTime": {
     "end_time": "2024-08-06T08:54:38.873823Z",
     "start_time": "2024-08-06T08:54:38.834248Z"
    }
   },
   "outputs": [
    {
     "data": {
      "text/plain": [
       "['xgboost_model.pkl']"
      ]
     },
     "execution_count": 39,
     "metadata": {},
     "output_type": "execute_result"
    }
   ],
   "source": [
    "joblib.dump(label_encoder, 'label_encoder_region.pkl')\n",
    "joblib.dump(scaler, 'scaler.pkl')\n",
    "joblib.dump(le, 'target_encoder.pkl')\n",
    "joblib.dump(xgb_clf, 'xgboost_model.pkl')"
   ]
  },
  {
   "cell_type": "code",
   "execution_count": 40,
   "metadata": {
    "ExecuteTime": {
     "end_time": "2024-08-06T08:56:23.904830Z",
     "start_time": "2024-08-06T08:56:23.887337Z"
    }
   },
   "outputs": [
    {
     "name": "stdout",
     "output_type": "stream",
     "text": [
      "Python version: 3.8.5 | packaged by conda-forge | (default, Sep 24 2020, 16:20:24) [MSC v.1916 64 bit (AMD64)]\n"
     ]
    }
   ],
   "source": [
    "import sys\n",
    "print(\"Python version:\", sys.version)\n"
   ]
  },
  {
   "cell_type": "code",
   "execution_count": null,
   "metadata": {},
   "outputs": [],
   "source": []
  }
 ],
 "metadata": {
  "colab": {
   "provenance": []
  },
  "hide_input": false,
  "kernelspec": {
   "display_name": "Python 3",
   "language": "python",
   "name": "python3"
  },
  "language_info": {
   "codemirror_mode": {
    "name": "ipython",
    "version": 3
   },
   "file_extension": ".py",
   "mimetype": "text/x-python",
   "name": "python",
   "nbconvert_exporter": "python",
   "pygments_lexer": "ipython3",
   "version": "3.8.5"
  },
  "toc": {
   "base_numbering": 1,
   "nav_menu": {},
   "number_sections": true,
   "sideBar": true,
   "skip_h1_title": false,
   "title_cell": "Table of Contents",
   "title_sidebar": "Contents",
   "toc_cell": false,
   "toc_position": {},
   "toc_section_display": true,
   "toc_window_display": false
  }
 },
 "nbformat": 4,
 "nbformat_minor": 1
}
